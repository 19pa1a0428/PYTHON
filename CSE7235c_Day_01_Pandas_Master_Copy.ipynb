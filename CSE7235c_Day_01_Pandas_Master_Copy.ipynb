{
  "nbformat": 4,
  "nbformat_minor": 0,
  "metadata": {
    "kernelspec": {
      "display_name": "Python 3",
      "language": "python",
      "name": "python3"
    },
    "language_info": {
      "codemirror_mode": {
        "name": "ipython",
        "version": 3
      },
      "file_extension": ".py",
      "mimetype": "text/x-python",
      "name": "python",
      "nbconvert_exporter": "python",
      "pygments_lexer": "ipython3",
      "version": "3.6.4"
    },
    "varInspector": {
      "cols": {
        "lenName": 16,
        "lenType": 16,
        "lenVar": 40
      },
      "kernels_config": {
        "python": {
          "delete_cmd_postfix": "",
          "delete_cmd_prefix": "del ",
          "library": "var_list.py",
          "varRefreshCmd": "print(var_dic_list())"
        },
        "r": {
          "delete_cmd_postfix": ") ",
          "delete_cmd_prefix": "rm(",
          "library": "var_list.r",
          "varRefreshCmd": "cat(var_dic_list()) "
        }
      },
      "types_to_exclude": [
        "module",
        "function",
        "builtin_function_or_method",
        "instance",
        "_Feature"
      ],
      "window_display": false
    },
    "colab": {
      "name": "CSE7235c_Day_01_Pandas_Master_Copy.ipynb",
      "provenance": [],
      "toc_visible": true,
      "include_colab_link": true
    }
  },
  "cells": [
    {
      "cell_type": "markdown",
      "metadata": {
        "id": "view-in-github",
        "colab_type": "text"
      },
      "source": [
        "<a href=\"https://colab.research.google.com/github/19pa1a0428/PYTHON/blob/master/CSE7235c_Day_01_Pandas_Master_Copy.ipynb\" target=\"_parent\"><img src=\"https://colab.research.google.com/assets/colab-badge.svg\" alt=\"Open In Colab\"/></a>"
      ]
    },
    {
      "cell_type": "markdown",
      "metadata": {
        "id": "nWzJ44PzWoqh",
        "colab_type": "text"
      },
      "source": [
        "# <center>**Pandas Introduction**</center>\n",
        "---\n",
        "\n",
        "<br>\n"
      ]
    },
    {
      "cell_type": "markdown",
      "metadata": {
        "collapsed": true,
        "id": "foI6ptUVWoql",
        "colab_type": "text"
      },
      "source": [
        "## **Pandas DataFrame**\n"
      ]
    },
    {
      "cell_type": "code",
      "metadata": {
        "id": "W6vXTDW2Woqo",
        "colab_type": "code",
        "colab": {}
      },
      "source": [
        "# import pandas\n",
        "import pandas as pd"
      ],
      "execution_count": 0,
      "outputs": []
    },
    {
      "cell_type": "markdown",
      "metadata": {
        "id": "3_xAi7XzWoqy",
        "colab_type": "text"
      },
      "source": [
        "## **Reading data**"
      ]
    },
    {
      "cell_type": "code",
      "metadata": {
        "id": "84ztTaPHWoq0",
        "colab_type": "code",
        "colab": {}
      },
      "source": [
        "# Read data from csv file\n",
        "ipl = pd.read_csv('matches2008-2016.csv')\n",
        "ipl_new = pd.read_csv('matches2017.csv')"
      ],
      "execution_count": 0,
      "outputs": []
    },
    {
      "cell_type": "code",
      "metadata": {
        "id": "TeSv6cSNWoq7",
        "colab_type": "code",
        "colab": {
          "base_uri": "https://localhost:8080/",
          "height": 260
        },
        "outputId": "943f8215-53ba-40cd-f431-425f88c9ac5c"
      },
      "source": [
        "print(ipl)"
      ],
      "execution_count": 3,
      "outputs": [
        {
          "output_type": "stream",
          "text": [
            "    match_id  season        city  ... venue_id          umpire1          umpire2\n",
            "0     2008_1    2008   Bangalore  ...        7        Asad Rauf      RE Koertzen\n",
            "1     2008_2    2008  Chandigarh  ...        9        MR Benson       SL Shastri\n",
            "2     2008_3    2008       Delhi  ...        2        Aleem Dar   GA Pratapkumar\n",
            "3     2008_4    2008      Mumbai  ...        1         SJ Davis        DJ Harper\n",
            "4     2008_5    2008     Kolkata  ...        3        BF Bowden      K Hariharan\n",
            "..       ...     ...         ...  ...      ...              ...              ...\n",
            "572  2016_56    2016      Raipur  ...       27   A Nand Kishore     BNJ Oxenford\n",
            "573  2016_57    2016   Bangalore  ...        7     AK Chaudhary  HDPK Dharmasena\n",
            "574  2016_58    2016       Delhi  ...        2        M Erasmus    C Shamshuddin\n",
            "575  2016_59    2016       Delhi  ...        2        M Erasmus        CK Nandan\n",
            "576  2016_60    2016   Bangalore  ...        7  HDPK Dharmasena     BNJ Oxenford\n",
            "\n",
            "[577 rows x 19 columns]\n"
          ],
          "name": "stdout"
        }
      ]
    },
    {
      "cell_type": "markdown",
      "metadata": {
        "id": "yyezw_MrWorB",
        "colab_type": "text"
      },
      "source": [
        "## **Checking data dimensions**\n",
        "- use the shape method on data frame to get the dimensions"
      ]
    },
    {
      "cell_type": "code",
      "metadata": {
        "id": "7FDA3mJHWorD",
        "colab_type": "code",
        "colab": {},
        "outputId": "cfc6d6ae-738c-4e1d-b20e-b529843f37a7"
      },
      "source": [
        "print(ipl.shape)\n",
        "print(ipl_new.shape)"
      ],
      "execution_count": 0,
      "outputs": [
        {
          "output_type": "stream",
          "text": [
            "(577, 19)\n",
            "(59, 19)\n"
          ],
          "name": "stdout"
        }
      ]
    },
    {
      "cell_type": "markdown",
      "metadata": {
        "id": "nuUaEPicWorJ",
        "colab_type": "text"
      },
      "source": [
        "## **Appending DataFrame**\n",
        "- We need to append new matches data to the old data using append method"
      ]
    },
    {
      "cell_type": "code",
      "metadata": {
        "id": "2jLCRV4rWorL",
        "colab_type": "code",
        "colab": {},
        "outputId": "cba68bc8-fab5-4c59-9ac9-6383a7ce8410"
      },
      "source": [
        "ipl_final = ipl.copy()             # Explicitly creating a copy of ipl. Just to make sure you don't modify your original data\n",
        "ipl_final = ipl_final.append(ipl_new)\n",
        "print(ipl_final)"
      ],
      "execution_count": 0,
      "outputs": [
        {
          "output_type": "stream",
          "text": [
            "   match_id  season        city        date team1_id team2_id toss_winner  \\\n",
            "0    2008_1    2008   Bangalore  18-04-2008      KKR      RCB         RCB   \n",
            "1    2008_2    2008  Chandigarh  19-04-2008      CSK      KXI         CSK   \n",
            "2    2008_3    2008       Delhi  19-04-2008       RR       DD          RR   \n",
            "3    2008_4    2008      Mumbai  20-04-2008       MI      RCB          MI   \n",
            "4    2008_5    2008     Kolkata  20-04-2008       DC      KKR          DC   \n",
            "5    2008_6    2008      Jaipur  21-04-2008      KXI       RR         KXI   \n",
            "6    2008_7    2008   Hyderabad  22-04-2008       DC       DD          DC   \n",
            "7    2008_8    2008     Chennai  23-04-2008      CSK       MI          MI   \n",
            "8    2008_9    2008   Hyderabad  24-04-2008       DC       RR          RR   \n",
            "9   2008_10    2008  Chandigarh  25-04-2008      KXI       MI          MI   \n",
            "10  2008_11    2008   Bangalore  26-04-2008      RCB       RR          RR   \n",
            "11  2008_12    2008     Chennai  26-04-2008      KKR      CSK         KKR   \n",
            "12  2008_13    2008      Mumbai  27-04-2008       MI       DC          DC   \n",
            "13  2008_14    2008  Chandigarh  27-04-2008       DD      KXI          DD   \n",
            "14  2008_15    2008   Bangalore  28-04-2008      CSK      RCB         CSK   \n",
            "15  2008_16    2008     Kolkata  29-04-2008      KKR       MI         KKR   \n",
            "16  2008_17    2008       Delhi  30-04-2008       DD      RCB         RCB   \n",
            "17  2008_18    2008   Hyderabad  01-05-2008       DC      KXI         KXI   \n",
            "18  2008_19    2008      Jaipur  01-05-2008       RR      KKR          RR   \n",
            "19  2008_20    2008     Chennai  02-05-2008      CSK       DD         CSK   \n",
            "20  2008_21    2008   Hyderabad  25-05-2008       DC      RCB          DC   \n",
            "21  2008_22    2008  Chandigarh  03-05-2008      KXI      KKR         KXI   \n",
            "22  2008_23    2008      Mumbai  04-05-2008       MI       DD          DD   \n",
            "23  2008_24    2008      Jaipur  04-05-2008      CSK       RR         CSK   \n",
            "24  2008_25    2008   Bangalore  05-05-2008      RCB      KXI         KXI   \n",
            "25  2008_26    2008     Chennai  06-05-2008      CSK       DC          DC   \n",
            "26  2008_27    2008      Mumbai  07-05-2008       RR       MI          MI   \n",
            "27  2008_28    2008       Delhi  08-05-2008       DD      CSK         CSK   \n",
            "28  2008_29    2008     Kolkata  08-05-2008      KKR      RCB         KKR   \n",
            "29  2008_30    2008      Jaipur  09-05-2008       DC       RR          RR   \n",
            "..      ...     ...         ...         ...      ...      ...         ...   \n",
            "29  2017_30    2017   Bangalore  27-04-2017      RCB       GL          GL   \n",
            "30  2017_31    2017     Kolkata  28-04-2017       DD      KKR         KKR   \n",
            "31  2017_32    2017  Chandigarh  28-04-2017      SRH      KXI         KXI   \n",
            "32  2017_33    2017        Pune  29-04-2017      RPS      RCB         RCB   \n",
            "33  2017_34    2017      Rajkot  29-04-2017       GL       MI          GL   \n",
            "34  2017_35    2017  Chandigarh  30-04-2017       DD      KXI         KXI   \n",
            "35  2017_36    2017   Hyderabad  30-04-2017      SRH      KKR         KKR   \n",
            "36  2017_37    2017      Mumbai  01-05-2017      RCB       MI         RCB   \n",
            "37  2017_38    2017        Pune  01-05-2017       GL      RPS         RPS   \n",
            "38  2017_39    2017       Delhi  02-05-2017      SRH       DD          DD   \n",
            "39  2017_40    2017     Kolkata  03-05-2017      KKR      RPS         RPS   \n",
            "40  2017_41    2017       Delhi  04-05-2017       GL       DD          DD   \n",
            "41  2017_42    2017   Bangalore  05-05-2017      KXI      RCB         RCB   \n",
            "42  2017_43    2017   Hyderabad  06-05-2017      RPS      SRH         SRH   \n",
            "43  2017_44    2017       Delhi  06-05-2017       MI       DD          DD   \n",
            "44  2017_45    2017   Bangalore  07-05-2017      RCB      KKR         KKR   \n",
            "45  2017_46    2017  Chandigarh  07-05-2017      KXI       GL          GL   \n",
            "46  2017_47    2017   Hyderabad  08-05-2017       MI      SRH          MI   \n",
            "47  2017_48    2017  Chandigarh  09-05-2017      KXI      KKR         KKR   \n",
            "48  2017_49    2017      Kanpur  10-05-2017       GL       DD          DD   \n",
            "49  2017_50    2017      Mumbai  11-05-2017      KXI       MI          MI   \n",
            "50  2017_51    2017       Delhi  12-05-2017       DD      RPS          DD   \n",
            "51  2017_52    2017      Kanpur  13-05-2017       GL      SRH         SRH   \n",
            "52  2017_53    2017     Kolkata  13-05-2017       MI      KKR         KKR   \n",
            "53  2017_54    2017        Pune  14-05-2017      KXI      RPS         RPS   \n",
            "54  2017_55    2017       Delhi  14-05-2017      RCB       DD         RCB   \n",
            "55  2017_56    2017      Mumbai  16-05-2017      RPS       MI          MI   \n",
            "56  2017_57    2017   Bangalore  17-05-2017      SRH      KKR         KKR   \n",
            "57  2017_58    2017   Bangalore  19-05-2017      KKR       MI          MI   \n",
            "58  2017_59    2017   Hyderabad  21-05-2017       MI      RPS          MI   \n",
            "\n",
            "   toss_decision  result  dl_applied winner  win_by_runs  win_by_wickets  \\\n",
            "0          field  normal           0    KKR          140               0   \n",
            "1            bat  normal           0    CSK           33               0   \n",
            "2            bat  normal           0     DD            0               9   \n",
            "3            bat  normal           0    RCB            0               5   \n",
            "4            bat  normal           0    KKR            0               5   \n",
            "5            bat  normal           0     RR            0               6   \n",
            "6            bat  normal           0     DD            0               9   \n",
            "7          field  normal           0    CSK            6               0   \n",
            "8          field  normal           0     RR            0               3   \n",
            "9          field  normal           0    KXI           66               0   \n",
            "10         field  normal           0     RR            0               7   \n",
            "11           bat  normal           0    CSK            0               9   \n",
            "12         field  normal           0     DC            0              10   \n",
            "13           bat  normal           0    KXI            0               4   \n",
            "14           bat  normal           0    CSK           13               0   \n",
            "15           bat  normal           0     MI            0               7   \n",
            "16         field  normal           0     DD           10               0   \n",
            "17         field  normal           0    KXI            0               7   \n",
            "18           bat  normal           0     RR           45               0   \n",
            "19           bat  normal           0     DD            0               8   \n",
            "20           bat  normal           0    RCB            0               5   \n",
            "21           bat  normal           0    KXI            9               0   \n",
            "22         field  normal           0     MI           29               0   \n",
            "23           bat  normal           0     RR            0               8   \n",
            "24         field  normal           0    KXI            0               6   \n",
            "25         field  normal           0     DC            0               7   \n",
            "26         field  normal           0     MI            0               7   \n",
            "27         field  normal           0    CSK            0               4   \n",
            "28           bat  normal           0    KKR            5               0   \n",
            "29         field  normal           0     RR            0               8   \n",
            "..           ...     ...         ...    ...          ...             ...   \n",
            "29         field  normal           0     GL            0               7   \n",
            "30         field  normal           0    KKR            0               7   \n",
            "31         field  normal           0    SRH           26               0   \n",
            "32         field  normal           0    RPS           61               0   \n",
            "33           bat     tie           0     MI            0               0   \n",
            "34         field  normal           0    KXI            0              10   \n",
            "35         field  normal           0    SRH           48               0   \n",
            "36           bat  normal           0     MI            0               5   \n",
            "37         field  normal           0    RPS            0               5   \n",
            "38         field  normal           0     DD            0               6   \n",
            "39         field  normal           0    RPS            0               4   \n",
            "40         field  normal           0     DD            0               7   \n",
            "41         field  normal           0    KXI           19               0   \n",
            "42         field  normal           0    RPS           12               0   \n",
            "43         field  normal           0     MI          146               0   \n",
            "44         field  normal           0    KKR            0               6   \n",
            "45         field  normal           0     GL            0               6   \n",
            "46           bat  normal           0    SRH            0               7   \n",
            "47         field  normal           0    KXI           14               0   \n",
            "48         field  normal           0     DD            0               2   \n",
            "49         field  normal           0    KXI            7               0   \n",
            "50           bat  normal           0     DD            7               0   \n",
            "51         field  normal           0    SRH            0               8   \n",
            "52         field  normal           0     MI            9               0   \n",
            "53         field  normal           0    RPS            0               9   \n",
            "54           bat  normal           0    RCB           10               0   \n",
            "55         field  normal           0    RPS           20               0   \n",
            "56         field  normal           1    KKR            0               7   \n",
            "57         field  normal           0     MI            0               6   \n",
            "58           bat  normal           0     MI            1               0   \n",
            "\n",
            "         player_of_match  player_of_match_id  \\\n",
            "0       Brendon McCullum                82.0   \n",
            "1         Michael Hussey                18.0   \n",
            "2       Farveez Maharoof                60.0   \n",
            "3           Mark Boucher               145.0   \n",
            "4           David Hussey                80.0   \n",
            "5           Shane Watson               175.0   \n",
            "6        Virender Sehwag                46.0   \n",
            "7         Matthew Hayden                 6.0   \n",
            "8           Yusuf Pathan               171.0   \n",
            "9       Kumar Sangakkara                98.0   \n",
            "10          Shane Watson               175.0   \n",
            "11            Jacob Oram                23.0   \n",
            "12        Adam Gilchrist                28.0   \n",
            "13          Simon Katich               105.0   \n",
            "14  Mahendra Singh Dhoni                 1.0   \n",
            "15     Sanath Jayasuriya               117.0   \n",
            "16         Glenn McGrath                50.0   \n",
            "17           Shaun Marsh               106.0   \n",
            "18      Swapnil Asnodkar               166.0   \n",
            "19       Virender Sehwag                46.0   \n",
            "20           Vinay Kumar               153.0   \n",
            "21          Irfan Pathan                96.0   \n",
            "22         Shaun Pollock               121.0   \n",
            "23         Sohail Tanvir               174.0   \n",
            "24           S Sreesanth               100.0   \n",
            "25        Adam Gilchrist                28.0   \n",
            "26          Ashish Nehra               119.0   \n",
            "27  Mahendra Singh Dhoni                 1.0   \n",
            "28        Sourav Ganguly                66.0   \n",
            "29          Yusuf Pathan               171.0   \n",
            "..                   ...                 ...   \n",
            "29            Andrew Tye               535.0   \n",
            "30        Gautam Gambhir                58.0   \n",
            "31           Rashid Khan               634.0   \n",
            "32       Lockie Ferguson               627.0   \n",
            "33         Krunal Pandya               582.0   \n",
            "34        Sandeep Sharma               479.0   \n",
            "35          David Warner               207.0   \n",
            "36          Rohit Sharma                30.0   \n",
            "37            Ben Stokes               625.0   \n",
            "38        Mohammed Shami               647.0   \n",
            "39        Rahul Tripathi               630.0   \n",
            "40          Rishabh Pant               572.0   \n",
            "41        Sandeep Sharma               479.0   \n",
            "42        Jaydev Unadkat               361.0   \n",
            "43         Lendl Simmons               524.0   \n",
            "44          Sunil Narine               437.0   \n",
            "45          Dwayne Smith               124.0   \n",
            "46        Shikhar Dhawan                57.0   \n",
            "47          Mohit Sharma               469.0   \n",
            "48          Shreyas Iyer               537.0   \n",
            "49       Wriddhiman Saha                84.0   \n",
            "50            Karun Nair               458.0   \n",
            "51        Mohammed Siraj               681.0   \n",
            "52         Ambati Rayudu               309.0   \n",
            "53        Jaydev Unadkat               361.0   \n",
            "54         Harshal Patel               456.0   \n",
            "55     Washington Sunder               631.0   \n",
            "56   Nathan Coulter-Nile               484.0   \n",
            "57           Karn Sharma               254.0   \n",
            "58         Krunal Pandya               582.0   \n",
            "\n",
            "                                                venue  venue_id  \\\n",
            "0          M.Chinnaswamy Stadium Bengaluru, Karnataka         7   \n",
            "1   I.S. Bindra Punjab Cricket Association Stadium...         9   \n",
            "2                     Feroz Shah Kotla Stadium, Delhi         2   \n",
            "3               Wankhede Stadium, Mumbai, Maharashtra         1   \n",
            "4           Eden Garden Stadium, Kolkata, West Bengal         3   \n",
            "5          Sawai Man Singh Stadium, Jaipur, Rajasthan         6   \n",
            "6       Rajiv Gandhi International Stadium, Hyderabad         4   \n",
            "7         M.A.Chidambaram Stadium Chennai, Tamil Nadu         5   \n",
            "8       Rajiv Gandhi International Stadium, Hyderabad         4   \n",
            "9   I.S. Bindra Punjab Cricket Association Stadium...         9   \n",
            "10         M.Chinnaswamy Stadium Bengaluru, Karnataka         7   \n",
            "11        M.A.Chidambaram Stadium Chennai, Tamil Nadu         5   \n",
            "12                         Dr DY Patil Sports Academy        10   \n",
            "13  I.S. Bindra Punjab Cricket Association Stadium...         9   \n",
            "14         M.Chinnaswamy Stadium Bengaluru, Karnataka         7   \n",
            "15          Eden Garden Stadium, Kolkata, West Bengal         3   \n",
            "16                    Feroz Shah Kotla Stadium, Delhi         2   \n",
            "17      Rajiv Gandhi International Stadium, Hyderabad         4   \n",
            "18         Sawai Man Singh Stadium, Jaipur, Rajasthan         6   \n",
            "19        M.A.Chidambaram Stadium Chennai, Tamil Nadu         5   \n",
            "20      Rajiv Gandhi International Stadium, Hyderabad         4   \n",
            "21  I.S. Bindra Punjab Cricket Association Stadium...         9   \n",
            "22                         Dr DY Patil Sports Academy        10   \n",
            "23         Sawai Man Singh Stadium, Jaipur, Rajasthan         6   \n",
            "24         M.Chinnaswamy Stadium Bengaluru, Karnataka         7   \n",
            "25        M.A.Chidambaram Stadium Chennai, Tamil Nadu         5   \n",
            "26                         Dr DY Patil Sports Academy        10   \n",
            "27                    Feroz Shah Kotla Stadium, Delhi         2   \n",
            "28          Eden Garden Stadium, Kolkata, West Bengal         3   \n",
            "29         Sawai Man Singh Stadium, Jaipur, Rajasthan         6   \n",
            "..                                                ...       ...   \n",
            "29         M.Chinnaswamy Stadium Bengaluru, Karnataka         7   \n",
            "30          Eden Garden Stadium, Kolkata, West Bengal         3   \n",
            "31  I.S. Bindra Punjab Cricket Association Stadium...         9   \n",
            "32            Maharashtra Cricket Association Stadium        32   \n",
            "33             Saurashtra Cricket Association Stadium        33   \n",
            "34  I.S. Bindra Punjab Cricket Association Stadium...         9   \n",
            "35      Rajiv Gandhi International Stadium, Hyderabad         4   \n",
            "36              Wankhede Stadium, Mumbai, Maharashtra         1   \n",
            "37            Maharashtra Cricket Association Stadium        32   \n",
            "38                    Feroz Shah Kotla Stadium, Delhi         2   \n",
            "39          Eden Garden Stadium, Kolkata, West Bengal         3   \n",
            "40                    Feroz Shah Kotla Stadium, Delhi         2   \n",
            "41         M.Chinnaswamy Stadium Bengaluru, Karnataka         7   \n",
            "42      Rajiv Gandhi International Stadium, Hyderabad         4   \n",
            "43                    Feroz Shah Kotla Stadium, Delhi         2   \n",
            "44         M.Chinnaswamy Stadium Bengaluru, Karnataka         7   \n",
            "45  I.S. Bindra Punjab Cricket Association Stadium...         9   \n",
            "46      Rajiv Gandhi International Stadium, Hyderabad         4   \n",
            "47  I.S. Bindra Punjab Cricket Association Stadium...         9   \n",
            "48                                         Green Park        34   \n",
            "49              Wankhede Stadium, Mumbai, Maharashtra         1   \n",
            "50                    Feroz Shah Kotla Stadium, Delhi         2   \n",
            "51                                         Green Park        34   \n",
            "52          Eden Garden Stadium, Kolkata, West Bengal         3   \n",
            "53            Maharashtra Cricket Association Stadium        32   \n",
            "54                    Feroz Shah Kotla Stadium, Delhi         2   \n",
            "55              Wankhede Stadium, Mumbai, Maharashtra         1   \n",
            "56         M.Chinnaswamy Stadium Bengaluru, Karnataka         7   \n",
            "57         M.Chinnaswamy Stadium Bengaluru, Karnataka         7   \n",
            "58      Rajiv Gandhi International Stadium, Hyderabad         4   \n",
            "\n",
            "                  umpire1         umpire2  \n",
            "0               Asad Rauf     RE Koertzen  \n",
            "1               MR Benson      SL Shastri  \n",
            "2               Aleem Dar  GA Pratapkumar  \n",
            "3                SJ Davis       DJ Harper  \n",
            "4               BF Bowden     K Hariharan  \n",
            "5               Aleem Dar       RB Tiffin  \n",
            "6               IL Howell       AM Saheba  \n",
            "7               DJ Harper  GA Pratapkumar  \n",
            "8               Asad Rauf       MR Benson  \n",
            "9               Aleem Dar       AM Saheba  \n",
            "10              MR Benson       IL Howell  \n",
            "11              BF Bowden  AV Jayaprakash  \n",
            "12              Asad Rauf      SL Shastri  \n",
            "13            RE Koertzen       I Shivram  \n",
            "14            BR Doctrove       RB Tiffin  \n",
            "15              BF Bowden  AV Jayaprakash  \n",
            "16              Aleem Dar       I Shivram  \n",
            "17            BR Doctrove       RB Tiffin  \n",
            "18            RE Koertzen  GA Pratapkumar  \n",
            "19              BF Bowden     K Hariharan  \n",
            "20              Asad Rauf     RE Koertzen  \n",
            "21              DJ Harper       I Shivram  \n",
            "22              IL Howell     RE Koertzen  \n",
            "23              Asad Rauf  AV Jayaprakash  \n",
            "24               SJ Davis     BR Doctrove  \n",
            "25              MR Benson       RB Tiffin  \n",
            "26              DJ Harper     RE Koertzen  \n",
            "27              Aleem Dar       RB Tiffin  \n",
            "28              Asad Rauf       IL Howell  \n",
            "29              MR Benson       AM Saheba  \n",
            "..                    ...             ...  \n",
            "29           AK Chaudhary   C Shamshuddin  \n",
            "30               NJ Llong          S Ravi  \n",
            "31            Nitin Menon       CK Nandan  \n",
            "32  KN Ananthapadmanabhan       M Erasmus  \n",
            "33           AK Chaudhary     CB Gaffaney  \n",
            "34               YC Barde       CK Nandan  \n",
            "35            AY Dandekar          S Ravi  \n",
            "36           AK Chaudhary     CB Gaffaney  \n",
            "37              M Erasmus   C Shamshuddin  \n",
            "38               YC Barde     Nitin Menon  \n",
            "39  KN Ananthapadmanabhan  A Nand Kishore  \n",
            "40              M Erasmus     Nitin Menon  \n",
            "41            CB Gaffaney   C Shamshuddin  \n",
            "42  KN Ananthapadmanabhan    AK Chaudhary  \n",
            "43            Nitin Menon       CK Nandan  \n",
            "44            AY Dandekar   C Shamshuddin  \n",
            "45         A Nand Kishore       VK Sharma  \n",
            "46  KN Ananthapadmanabhan       M Erasmus  \n",
            "47         A Nand Kishore          S Ravi  \n",
            "48               YC Barde    AK Chaudhary  \n",
            "49             A Deshmukh  A Nand Kishore  \n",
            "50  KN Ananthapadmanabhan       CK Nandan  \n",
            "51           AK Chaudhary     Nitin Menon  \n",
            "52         A Nand Kishore          S Ravi  \n",
            "53            AY Dandekar      A Deshmukh  \n",
            "54              CK Nandan   C Shamshuddin  \n",
            "55                 S Ravi   C Shamshuddin  \n",
            "56           AK Chaudhary     Nitin Menon  \n",
            "57               NJ Llong     Nitin Menon  \n",
            "58               NJ Llong          S Ravi  \n",
            "\n",
            "[636 rows x 19 columns]\n"
          ],
          "name": "stdout"
        }
      ]
    },
    {
      "cell_type": "markdown",
      "metadata": {
        "id": "8i1VyKjYWorQ",
        "colab_type": "text"
      },
      "source": [
        "## **Data Inspection**"
      ]
    },
    {
      "cell_type": "code",
      "metadata": {
        "id": "Fvjoihk6WorS",
        "colab_type": "code",
        "colab": {},
        "outputId": "ce2a41a1-e223-4d2a-f35e-db6105237c12"
      },
      "source": [
        "## .shape gives dimentions of Data\n",
        "print(ipl_final.shape)                            # dim() in R - Dimentions of data"
      ],
      "execution_count": 0,
      "outputs": [
        {
          "output_type": "stream",
          "text": [
            "(636, 19)\n"
          ],
          "name": "stdout"
        }
      ]
    },
    {
      "cell_type": "code",
      "metadata": {
        "id": "jySCzLLzWorX",
        "colab_type": "code",
        "colab": {},
        "outputId": "8e3b2e1b-3e25-4e60-8080-aa7423675188"
      },
      "source": [
        "## Getting top 3 rows usig head method\n",
        "ipl_final.head(3)"
      ],
      "execution_count": 0,
      "outputs": [
        {
          "output_type": "execute_result",
          "data": {
            "text/html": [
              "<div>\n",
              "<style scoped>\n",
              "    .dataframe tbody tr th:only-of-type {\n",
              "        vertical-align: middle;\n",
              "    }\n",
              "\n",
              "    .dataframe tbody tr th {\n",
              "        vertical-align: top;\n",
              "    }\n",
              "\n",
              "    .dataframe thead th {\n",
              "        text-align: right;\n",
              "    }\n",
              "</style>\n",
              "<table border=\"1\" class=\"dataframe\">\n",
              "  <thead>\n",
              "    <tr style=\"text-align: right;\">\n",
              "      <th></th>\n",
              "      <th>match_id</th>\n",
              "      <th>season</th>\n",
              "      <th>city</th>\n",
              "      <th>date</th>\n",
              "      <th>team1_id</th>\n",
              "      <th>team2_id</th>\n",
              "      <th>toss_winner</th>\n",
              "      <th>toss_decision</th>\n",
              "      <th>result</th>\n",
              "      <th>dl_applied</th>\n",
              "      <th>winner</th>\n",
              "      <th>win_by_runs</th>\n",
              "      <th>win_by_wickets</th>\n",
              "      <th>player_of_match</th>\n",
              "      <th>player_of_match_id</th>\n",
              "      <th>venue</th>\n",
              "      <th>venue_id</th>\n",
              "      <th>umpire1</th>\n",
              "      <th>umpire2</th>\n",
              "    </tr>\n",
              "  </thead>\n",
              "  <tbody>\n",
              "    <tr>\n",
              "      <th>0</th>\n",
              "      <td>2008_1</td>\n",
              "      <td>2008</td>\n",
              "      <td>Bangalore</td>\n",
              "      <td>18-04-2008</td>\n",
              "      <td>KKR</td>\n",
              "      <td>RCB</td>\n",
              "      <td>RCB</td>\n",
              "      <td>field</td>\n",
              "      <td>normal</td>\n",
              "      <td>0</td>\n",
              "      <td>KKR</td>\n",
              "      <td>140</td>\n",
              "      <td>0</td>\n",
              "      <td>Brendon McCullum</td>\n",
              "      <td>82.0</td>\n",
              "      <td>M.Chinnaswamy Stadium Bengaluru, Karnataka</td>\n",
              "      <td>7</td>\n",
              "      <td>Asad Rauf</td>\n",
              "      <td>RE Koertzen</td>\n",
              "    </tr>\n",
              "    <tr>\n",
              "      <th>1</th>\n",
              "      <td>2008_2</td>\n",
              "      <td>2008</td>\n",
              "      <td>Chandigarh</td>\n",
              "      <td>19-04-2008</td>\n",
              "      <td>CSK</td>\n",
              "      <td>KXI</td>\n",
              "      <td>CSK</td>\n",
              "      <td>bat</td>\n",
              "      <td>normal</td>\n",
              "      <td>0</td>\n",
              "      <td>CSK</td>\n",
              "      <td>33</td>\n",
              "      <td>0</td>\n",
              "      <td>Michael Hussey</td>\n",
              "      <td>18.0</td>\n",
              "      <td>I.S. Bindra Punjab Cricket Association Stadium...</td>\n",
              "      <td>9</td>\n",
              "      <td>MR Benson</td>\n",
              "      <td>SL Shastri</td>\n",
              "    </tr>\n",
              "    <tr>\n",
              "      <th>2</th>\n",
              "      <td>2008_3</td>\n",
              "      <td>2008</td>\n",
              "      <td>Delhi</td>\n",
              "      <td>19-04-2008</td>\n",
              "      <td>RR</td>\n",
              "      <td>DD</td>\n",
              "      <td>RR</td>\n",
              "      <td>bat</td>\n",
              "      <td>normal</td>\n",
              "      <td>0</td>\n",
              "      <td>DD</td>\n",
              "      <td>0</td>\n",
              "      <td>9</td>\n",
              "      <td>Farveez Maharoof</td>\n",
              "      <td>60.0</td>\n",
              "      <td>Feroz Shah Kotla Stadium, Delhi</td>\n",
              "      <td>2</td>\n",
              "      <td>Aleem Dar</td>\n",
              "      <td>GA Pratapkumar</td>\n",
              "    </tr>\n",
              "  </tbody>\n",
              "</table>\n",
              "</div>"
            ],
            "text/plain": [
              "  match_id  season        city        date team1_id team2_id toss_winner  \\\n",
              "0   2008_1    2008   Bangalore  18-04-2008      KKR      RCB         RCB   \n",
              "1   2008_2    2008  Chandigarh  19-04-2008      CSK      KXI         CSK   \n",
              "2   2008_3    2008       Delhi  19-04-2008       RR       DD          RR   \n",
              "\n",
              "  toss_decision  result  dl_applied winner  win_by_runs  win_by_wickets  \\\n",
              "0         field  normal           0    KKR          140               0   \n",
              "1           bat  normal           0    CSK           33               0   \n",
              "2           bat  normal           0     DD            0               9   \n",
              "\n",
              "    player_of_match  player_of_match_id  \\\n",
              "0  Brendon McCullum                82.0   \n",
              "1    Michael Hussey                18.0   \n",
              "2  Farveez Maharoof                60.0   \n",
              "\n",
              "                                               venue  venue_id    umpire1  \\\n",
              "0         M.Chinnaswamy Stadium Bengaluru, Karnataka         7  Asad Rauf   \n",
              "1  I.S. Bindra Punjab Cricket Association Stadium...         9  MR Benson   \n",
              "2                    Feroz Shah Kotla Stadium, Delhi         2  Aleem Dar   \n",
              "\n",
              "          umpire2  \n",
              "0     RE Koertzen  \n",
              "1      SL Shastri  \n",
              "2  GA Pratapkumar  "
            ]
          },
          "metadata": {
            "tags": []
          },
          "execution_count": 6
        }
      ]
    },
    {
      "cell_type": "code",
      "metadata": {
        "id": "iWMwRWc9Worc",
        "colab_type": "code",
        "colab": {},
        "outputId": "19c4a12c-355a-4e5d-acd4-a0552e95b9f0"
      },
      "source": [
        "## .columns gives column names\n",
        "print(ipl_final.columns)                          # colnames() in R - Column Namesprint(list(df.index)[:10])"
      ],
      "execution_count": 0,
      "outputs": [
        {
          "output_type": "stream",
          "text": [
            "Index(['match_id', 'season', 'city', 'date', 'team1_id', 'team2_id',\n",
            "       'toss_winner', 'toss_decision', 'result', 'dl_applied', 'winner',\n",
            "       'win_by_runs', 'win_by_wickets', 'player_of_match',\n",
            "       'player_of_match_id', 'venue', 'venue_id', 'umpire1', 'umpire2'],\n",
            "      dtype='object')\n"
          ],
          "name": "stdout"
        }
      ]
    },
    {
      "cell_type": "code",
      "metadata": {
        "id": "bMnsjU66Wori",
        "colab_type": "code",
        "colab": {},
        "outputId": "580bc713-d084-4bbc-fd37-4980322614a5"
      },
      "source": [
        "## .dtypes gives data types for each column\n",
        "print(ipl_final.dtypes)                           # str() in R - Data types"
      ],
      "execution_count": 0,
      "outputs": [
        {
          "output_type": "stream",
          "text": [
            "match_id               object\n",
            "season                  int64\n",
            "city                   object\n",
            "date                   object\n",
            "team1_id               object\n",
            "team2_id               object\n",
            "toss_winner            object\n",
            "toss_decision          object\n",
            "result                 object\n",
            "dl_applied              int64\n",
            "winner                 object\n",
            "win_by_runs             int64\n",
            "win_by_wickets          int64\n",
            "player_of_match        object\n",
            "player_of_match_id    float64\n",
            "venue                  object\n",
            "venue_id                int64\n",
            "umpire1                object\n",
            "umpire2                object\n",
            "dtype: object\n"
          ],
          "name": "stdout"
        }
      ]
    },
    {
      "cell_type": "markdown",
      "metadata": {
        "id": "e8M9nK-eWorn",
        "colab_type": "text"
      },
      "source": [
        "<br><br>\n",
        "## **Seting match_id as row index** (rarely used)"
      ]
    },
    {
      "cell_type": "code",
      "metadata": {
        "id": "L0ud300DWoro",
        "colab_type": "code",
        "colab": {},
        "outputId": "91163a2b-1cce-46c5-cba2-94b04f64e057"
      },
      "source": [
        "ipl_final.set_index(['match_id'],inplace=True)\n",
        "ipl_final.head(3)"
      ],
      "execution_count": 0,
      "outputs": [
        {
          "output_type": "execute_result",
          "data": {
            "text/html": [
              "<div>\n",
              "<style scoped>\n",
              "    .dataframe tbody tr th:only-of-type {\n",
              "        vertical-align: middle;\n",
              "    }\n",
              "\n",
              "    .dataframe tbody tr th {\n",
              "        vertical-align: top;\n",
              "    }\n",
              "\n",
              "    .dataframe thead th {\n",
              "        text-align: right;\n",
              "    }\n",
              "</style>\n",
              "<table border=\"1\" class=\"dataframe\">\n",
              "  <thead>\n",
              "    <tr style=\"text-align: right;\">\n",
              "      <th></th>\n",
              "      <th>season</th>\n",
              "      <th>city</th>\n",
              "      <th>date</th>\n",
              "      <th>team1_id</th>\n",
              "      <th>team2_id</th>\n",
              "      <th>toss_winner</th>\n",
              "      <th>toss_decision</th>\n",
              "      <th>result</th>\n",
              "      <th>dl_applied</th>\n",
              "      <th>winner</th>\n",
              "      <th>win_by_runs</th>\n",
              "      <th>win_by_wickets</th>\n",
              "      <th>player_of_match</th>\n",
              "      <th>player_of_match_id</th>\n",
              "      <th>venue</th>\n",
              "      <th>venue_id</th>\n",
              "      <th>umpire1</th>\n",
              "      <th>umpire2</th>\n",
              "    </tr>\n",
              "    <tr>\n",
              "      <th>match_id</th>\n",
              "      <th></th>\n",
              "      <th></th>\n",
              "      <th></th>\n",
              "      <th></th>\n",
              "      <th></th>\n",
              "      <th></th>\n",
              "      <th></th>\n",
              "      <th></th>\n",
              "      <th></th>\n",
              "      <th></th>\n",
              "      <th></th>\n",
              "      <th></th>\n",
              "      <th></th>\n",
              "      <th></th>\n",
              "      <th></th>\n",
              "      <th></th>\n",
              "      <th></th>\n",
              "      <th></th>\n",
              "    </tr>\n",
              "  </thead>\n",
              "  <tbody>\n",
              "    <tr>\n",
              "      <th>2008_1</th>\n",
              "      <td>2008</td>\n",
              "      <td>Bangalore</td>\n",
              "      <td>18-04-2008</td>\n",
              "      <td>KKR</td>\n",
              "      <td>RCB</td>\n",
              "      <td>RCB</td>\n",
              "      <td>field</td>\n",
              "      <td>normal</td>\n",
              "      <td>0</td>\n",
              "      <td>KKR</td>\n",
              "      <td>140</td>\n",
              "      <td>0</td>\n",
              "      <td>Brendon McCullum</td>\n",
              "      <td>82.0</td>\n",
              "      <td>M.Chinnaswamy Stadium Bengaluru, Karnataka</td>\n",
              "      <td>7</td>\n",
              "      <td>Asad Rauf</td>\n",
              "      <td>RE Koertzen</td>\n",
              "    </tr>\n",
              "    <tr>\n",
              "      <th>2008_2</th>\n",
              "      <td>2008</td>\n",
              "      <td>Chandigarh</td>\n",
              "      <td>19-04-2008</td>\n",
              "      <td>CSK</td>\n",
              "      <td>KXI</td>\n",
              "      <td>CSK</td>\n",
              "      <td>bat</td>\n",
              "      <td>normal</td>\n",
              "      <td>0</td>\n",
              "      <td>CSK</td>\n",
              "      <td>33</td>\n",
              "      <td>0</td>\n",
              "      <td>Michael Hussey</td>\n",
              "      <td>18.0</td>\n",
              "      <td>I.S. Bindra Punjab Cricket Association Stadium...</td>\n",
              "      <td>9</td>\n",
              "      <td>MR Benson</td>\n",
              "      <td>SL Shastri</td>\n",
              "    </tr>\n",
              "    <tr>\n",
              "      <th>2008_3</th>\n",
              "      <td>2008</td>\n",
              "      <td>Delhi</td>\n",
              "      <td>19-04-2008</td>\n",
              "      <td>RR</td>\n",
              "      <td>DD</td>\n",
              "      <td>RR</td>\n",
              "      <td>bat</td>\n",
              "      <td>normal</td>\n",
              "      <td>0</td>\n",
              "      <td>DD</td>\n",
              "      <td>0</td>\n",
              "      <td>9</td>\n",
              "      <td>Farveez Maharoof</td>\n",
              "      <td>60.0</td>\n",
              "      <td>Feroz Shah Kotla Stadium, Delhi</td>\n",
              "      <td>2</td>\n",
              "      <td>Aleem Dar</td>\n",
              "      <td>GA Pratapkumar</td>\n",
              "    </tr>\n",
              "  </tbody>\n",
              "</table>\n",
              "</div>"
            ],
            "text/plain": [
              "          season        city        date team1_id team2_id toss_winner  \\\n",
              "match_id                                                                 \n",
              "2008_1      2008   Bangalore  18-04-2008      KKR      RCB         RCB   \n",
              "2008_2      2008  Chandigarh  19-04-2008      CSK      KXI         CSK   \n",
              "2008_3      2008       Delhi  19-04-2008       RR       DD          RR   \n",
              "\n",
              "         toss_decision  result  dl_applied winner  win_by_runs  \\\n",
              "match_id                                                         \n",
              "2008_1           field  normal           0    KKR          140   \n",
              "2008_2             bat  normal           0    CSK           33   \n",
              "2008_3             bat  normal           0     DD            0   \n",
              "\n",
              "          win_by_wickets   player_of_match  player_of_match_id  \\\n",
              "match_id                                                         \n",
              "2008_1                 0  Brendon McCullum                82.0   \n",
              "2008_2                 0    Michael Hussey                18.0   \n",
              "2008_3                 9  Farveez Maharoof                60.0   \n",
              "\n",
              "                                                      venue  venue_id  \\\n",
              "match_id                                                                \n",
              "2008_1           M.Chinnaswamy Stadium Bengaluru, Karnataka         7   \n",
              "2008_2    I.S. Bindra Punjab Cricket Association Stadium...         9   \n",
              "2008_3                      Feroz Shah Kotla Stadium, Delhi         2   \n",
              "\n",
              "            umpire1         umpire2  \n",
              "match_id                             \n",
              "2008_1    Asad Rauf     RE Koertzen  \n",
              "2008_2    MR Benson      SL Shastri  \n",
              "2008_3    Aleem Dar  GA Pratapkumar  "
            ]
          },
          "metadata": {
            "tags": []
          },
          "execution_count": 9
        }
      ]
    },
    {
      "cell_type": "markdown",
      "metadata": {
        "id": "NQoZYsTDWorz",
        "colab_type": "text"
      },
      "source": [
        "## **Summary statistics**\n",
        "- using the describe method"
      ]
    },
    {
      "cell_type": "code",
      "metadata": {
        "id": "8IGywf1OWor1",
        "colab_type": "code",
        "colab": {},
        "outputId": "927cdf6d-8c91-4eb7-dbe1-5e1ce20a8676"
      },
      "source": [
        "ipl.describe()"
      ],
      "execution_count": 0,
      "outputs": [
        {
          "output_type": "execute_result",
          "data": {
            "text/html": [
              "<div>\n",
              "<style scoped>\n",
              "    .dataframe tbody tr th:only-of-type {\n",
              "        vertical-align: middle;\n",
              "    }\n",
              "\n",
              "    .dataframe tbody tr th {\n",
              "        vertical-align: top;\n",
              "    }\n",
              "\n",
              "    .dataframe thead th {\n",
              "        text-align: right;\n",
              "    }\n",
              "</style>\n",
              "<table border=\"1\" class=\"dataframe\">\n",
              "  <thead>\n",
              "    <tr style=\"text-align: right;\">\n",
              "      <th></th>\n",
              "      <th>season</th>\n",
              "      <th>dl_applied</th>\n",
              "      <th>win_by_runs</th>\n",
              "      <th>win_by_wickets</th>\n",
              "      <th>player_of_match_id</th>\n",
              "      <th>venue_id</th>\n",
              "    </tr>\n",
              "  </thead>\n",
              "  <tbody>\n",
              "    <tr>\n",
              "      <th>count</th>\n",
              "      <td>577.000000</td>\n",
              "      <td>577.000000</td>\n",
              "      <td>577.000000</td>\n",
              "      <td>577.000000</td>\n",
              "      <td>574.000000</td>\n",
              "      <td>577.000000</td>\n",
              "    </tr>\n",
              "    <tr>\n",
              "      <th>mean</th>\n",
              "      <td>2012.029463</td>\n",
              "      <td>0.025997</td>\n",
              "      <td>13.715771</td>\n",
              "      <td>3.363951</td>\n",
              "      <td>187.937282</td>\n",
              "      <td>10.097054</td>\n",
              "    </tr>\n",
              "    <tr>\n",
              "      <th>std</th>\n",
              "      <td>2.486247</td>\n",
              "      <td>0.159263</td>\n",
              "      <td>23.619282</td>\n",
              "      <td>3.416049</td>\n",
              "      <td>163.146706</td>\n",
              "      <td>9.048535</td>\n",
              "    </tr>\n",
              "    <tr>\n",
              "      <th>min</th>\n",
              "      <td>2008.000000</td>\n",
              "      <td>0.000000</td>\n",
              "      <td>0.000000</td>\n",
              "      <td>0.000000</td>\n",
              "      <td>1.000000</td>\n",
              "      <td>1.000000</td>\n",
              "    </tr>\n",
              "    <tr>\n",
              "      <th>25%</th>\n",
              "      <td>2010.000000</td>\n",
              "      <td>0.000000</td>\n",
              "      <td>0.000000</td>\n",
              "      <td>0.000000</td>\n",
              "      <td>59.250000</td>\n",
              "      <td>3.000000</td>\n",
              "    </tr>\n",
              "    <tr>\n",
              "      <th>50%</th>\n",
              "      <td>2012.000000</td>\n",
              "      <td>0.000000</td>\n",
              "      <td>0.000000</td>\n",
              "      <td>3.000000</td>\n",
              "      <td>146.500000</td>\n",
              "      <td>7.000000</td>\n",
              "    </tr>\n",
              "    <tr>\n",
              "      <th>75%</th>\n",
              "      <td>2014.000000</td>\n",
              "      <td>0.000000</td>\n",
              "      <td>20.000000</td>\n",
              "      <td>6.000000</td>\n",
              "      <td>279.250000</td>\n",
              "      <td>14.000000</td>\n",
              "    </tr>\n",
              "    <tr>\n",
              "      <th>max</th>\n",
              "      <td>2016.000000</td>\n",
              "      <td>1.000000</td>\n",
              "      <td>144.000000</td>\n",
              "      <td>10.000000</td>\n",
              "      <td>691.000000</td>\n",
              "      <td>34.000000</td>\n",
              "    </tr>\n",
              "  </tbody>\n",
              "</table>\n",
              "</div>"
            ],
            "text/plain": [
              "            season  dl_applied  win_by_runs  win_by_wickets  \\\n",
              "count   577.000000  577.000000   577.000000      577.000000   \n",
              "mean   2012.029463    0.025997    13.715771        3.363951   \n",
              "std       2.486247    0.159263    23.619282        3.416049   \n",
              "min    2008.000000    0.000000     0.000000        0.000000   \n",
              "25%    2010.000000    0.000000     0.000000        0.000000   \n",
              "50%    2012.000000    0.000000     0.000000        3.000000   \n",
              "75%    2014.000000    0.000000    20.000000        6.000000   \n",
              "max    2016.000000    1.000000   144.000000       10.000000   \n",
              "\n",
              "       player_of_match_id    venue_id  \n",
              "count          574.000000  577.000000  \n",
              "mean           187.937282   10.097054  \n",
              "std            163.146706    9.048535  \n",
              "min              1.000000    1.000000  \n",
              "25%             59.250000    3.000000  \n",
              "50%            146.500000    7.000000  \n",
              "75%            279.250000   14.000000  \n",
              "max            691.000000   34.000000  "
            ]
          },
          "metadata": {
            "tags": []
          },
          "execution_count": 10
        }
      ]
    },
    {
      "cell_type": "markdown",
      "metadata": {
        "id": "Oh1DlqBwWor5",
        "colab_type": "text"
      },
      "source": [
        "## **Dropping columns**\n",
        "- using the drop method"
      ]
    },
    {
      "cell_type": "code",
      "metadata": {
        "id": "SZ4YT2VQWor6",
        "colab_type": "code",
        "colab": {},
        "outputId": "51bb6d1b-b495-4425-92f3-48a4c13fa924"
      },
      "source": [
        "# Dropping Column\n",
        "ipl_final.drop(['venue_id'], axis=1, inplace=True)    # Axis = 1 for columns\n",
        "\n",
        "ipl.head(3)"
      ],
      "execution_count": 0,
      "outputs": [
        {
          "output_type": "execute_result",
          "data": {
            "text/html": [
              "<div>\n",
              "<style scoped>\n",
              "    .dataframe tbody tr th:only-of-type {\n",
              "        vertical-align: middle;\n",
              "    }\n",
              "\n",
              "    .dataframe tbody tr th {\n",
              "        vertical-align: top;\n",
              "    }\n",
              "\n",
              "    .dataframe thead th {\n",
              "        text-align: right;\n",
              "    }\n",
              "</style>\n",
              "<table border=\"1\" class=\"dataframe\">\n",
              "  <thead>\n",
              "    <tr style=\"text-align: right;\">\n",
              "      <th></th>\n",
              "      <th>match_id</th>\n",
              "      <th>season</th>\n",
              "      <th>city</th>\n",
              "      <th>date</th>\n",
              "      <th>team1_id</th>\n",
              "      <th>team2_id</th>\n",
              "      <th>toss_winner</th>\n",
              "      <th>toss_decision</th>\n",
              "      <th>result</th>\n",
              "      <th>dl_applied</th>\n",
              "      <th>winner</th>\n",
              "      <th>win_by_runs</th>\n",
              "      <th>win_by_wickets</th>\n",
              "      <th>player_of_match</th>\n",
              "      <th>player_of_match_id</th>\n",
              "      <th>venue</th>\n",
              "      <th>venue_id</th>\n",
              "      <th>umpire1</th>\n",
              "      <th>umpire2</th>\n",
              "    </tr>\n",
              "  </thead>\n",
              "  <tbody>\n",
              "    <tr>\n",
              "      <th>0</th>\n",
              "      <td>2008_1</td>\n",
              "      <td>2008</td>\n",
              "      <td>Bangalore</td>\n",
              "      <td>18-04-2008</td>\n",
              "      <td>KKR</td>\n",
              "      <td>RCB</td>\n",
              "      <td>RCB</td>\n",
              "      <td>field</td>\n",
              "      <td>normal</td>\n",
              "      <td>0</td>\n",
              "      <td>KKR</td>\n",
              "      <td>140</td>\n",
              "      <td>0</td>\n",
              "      <td>Brendon McCullum</td>\n",
              "      <td>82.0</td>\n",
              "      <td>M.Chinnaswamy Stadium Bengaluru, Karnataka</td>\n",
              "      <td>7</td>\n",
              "      <td>Asad Rauf</td>\n",
              "      <td>RE Koertzen</td>\n",
              "    </tr>\n",
              "    <tr>\n",
              "      <th>1</th>\n",
              "      <td>2008_2</td>\n",
              "      <td>2008</td>\n",
              "      <td>Chandigarh</td>\n",
              "      <td>19-04-2008</td>\n",
              "      <td>CSK</td>\n",
              "      <td>KXI</td>\n",
              "      <td>CSK</td>\n",
              "      <td>bat</td>\n",
              "      <td>normal</td>\n",
              "      <td>0</td>\n",
              "      <td>CSK</td>\n",
              "      <td>33</td>\n",
              "      <td>0</td>\n",
              "      <td>Michael Hussey</td>\n",
              "      <td>18.0</td>\n",
              "      <td>I.S. Bindra Punjab Cricket Association Stadium...</td>\n",
              "      <td>9</td>\n",
              "      <td>MR Benson</td>\n",
              "      <td>SL Shastri</td>\n",
              "    </tr>\n",
              "    <tr>\n",
              "      <th>2</th>\n",
              "      <td>2008_3</td>\n",
              "      <td>2008</td>\n",
              "      <td>Delhi</td>\n",
              "      <td>19-04-2008</td>\n",
              "      <td>RR</td>\n",
              "      <td>DD</td>\n",
              "      <td>RR</td>\n",
              "      <td>bat</td>\n",
              "      <td>normal</td>\n",
              "      <td>0</td>\n",
              "      <td>DD</td>\n",
              "      <td>0</td>\n",
              "      <td>9</td>\n",
              "      <td>Farveez Maharoof</td>\n",
              "      <td>60.0</td>\n",
              "      <td>Feroz Shah Kotla Stadium, Delhi</td>\n",
              "      <td>2</td>\n",
              "      <td>Aleem Dar</td>\n",
              "      <td>GA Pratapkumar</td>\n",
              "    </tr>\n",
              "  </tbody>\n",
              "</table>\n",
              "</div>"
            ],
            "text/plain": [
              "  match_id  season        city        date team1_id team2_id toss_winner  \\\n",
              "0   2008_1    2008   Bangalore  18-04-2008      KKR      RCB         RCB   \n",
              "1   2008_2    2008  Chandigarh  19-04-2008      CSK      KXI         CSK   \n",
              "2   2008_3    2008       Delhi  19-04-2008       RR       DD          RR   \n",
              "\n",
              "  toss_decision  result  dl_applied winner  win_by_runs  win_by_wickets  \\\n",
              "0         field  normal           0    KKR          140               0   \n",
              "1           bat  normal           0    CSK           33               0   \n",
              "2           bat  normal           0     DD            0               9   \n",
              "\n",
              "    player_of_match  player_of_match_id  \\\n",
              "0  Brendon McCullum                82.0   \n",
              "1    Michael Hussey                18.0   \n",
              "2  Farveez Maharoof                60.0   \n",
              "\n",
              "                                               venue  venue_id    umpire1  \\\n",
              "0         M.Chinnaswamy Stadium Bengaluru, Karnataka         7  Asad Rauf   \n",
              "1  I.S. Bindra Punjab Cricket Association Stadium...         9  MR Benson   \n",
              "2                    Feroz Shah Kotla Stadium, Delhi         2  Aleem Dar   \n",
              "\n",
              "          umpire2  \n",
              "0     RE Koertzen  \n",
              "1      SL Shastri  \n",
              "2  GA Pratapkumar  "
            ]
          },
          "metadata": {
            "tags": []
          },
          "execution_count": 11
        }
      ]
    },
    {
      "cell_type": "markdown",
      "metadata": {
        "id": "sqs0STB9Wor_",
        "colab_type": "text"
      },
      "source": [
        "## **Dropping row**"
      ]
    },
    {
      "cell_type": "code",
      "metadata": {
        "id": "1bA2gAhQWosB",
        "colab_type": "code",
        "colab": {},
        "outputId": "08e55669-4f4b-4cca-b690-2267d3370223"
      },
      "source": [
        "# Dropping rows\n",
        "ipl_final.drop(['2008_1','2009_1','2010_1'], axis=0, inplace=True)  # axis = 0 for rows and axis=1 for columns\n",
        "\n",
        "ipl.head(3)"
      ],
      "execution_count": 0,
      "outputs": [
        {
          "output_type": "execute_result",
          "data": {
            "text/html": [
              "<div>\n",
              "<style scoped>\n",
              "    .dataframe tbody tr th:only-of-type {\n",
              "        vertical-align: middle;\n",
              "    }\n",
              "\n",
              "    .dataframe tbody tr th {\n",
              "        vertical-align: top;\n",
              "    }\n",
              "\n",
              "    .dataframe thead th {\n",
              "        text-align: right;\n",
              "    }\n",
              "</style>\n",
              "<table border=\"1\" class=\"dataframe\">\n",
              "  <thead>\n",
              "    <tr style=\"text-align: right;\">\n",
              "      <th></th>\n",
              "      <th>match_id</th>\n",
              "      <th>season</th>\n",
              "      <th>city</th>\n",
              "      <th>date</th>\n",
              "      <th>team1_id</th>\n",
              "      <th>team2_id</th>\n",
              "      <th>toss_winner</th>\n",
              "      <th>toss_decision</th>\n",
              "      <th>result</th>\n",
              "      <th>dl_applied</th>\n",
              "      <th>winner</th>\n",
              "      <th>win_by_runs</th>\n",
              "      <th>win_by_wickets</th>\n",
              "      <th>player_of_match</th>\n",
              "      <th>player_of_match_id</th>\n",
              "      <th>venue</th>\n",
              "      <th>venue_id</th>\n",
              "      <th>umpire1</th>\n",
              "      <th>umpire2</th>\n",
              "    </tr>\n",
              "  </thead>\n",
              "  <tbody>\n",
              "    <tr>\n",
              "      <th>0</th>\n",
              "      <td>2008_1</td>\n",
              "      <td>2008</td>\n",
              "      <td>Bangalore</td>\n",
              "      <td>18-04-2008</td>\n",
              "      <td>KKR</td>\n",
              "      <td>RCB</td>\n",
              "      <td>RCB</td>\n",
              "      <td>field</td>\n",
              "      <td>normal</td>\n",
              "      <td>0</td>\n",
              "      <td>KKR</td>\n",
              "      <td>140</td>\n",
              "      <td>0</td>\n",
              "      <td>Brendon McCullum</td>\n",
              "      <td>82.0</td>\n",
              "      <td>M.Chinnaswamy Stadium Bengaluru, Karnataka</td>\n",
              "      <td>7</td>\n",
              "      <td>Asad Rauf</td>\n",
              "      <td>RE Koertzen</td>\n",
              "    </tr>\n",
              "    <tr>\n",
              "      <th>1</th>\n",
              "      <td>2008_2</td>\n",
              "      <td>2008</td>\n",
              "      <td>Chandigarh</td>\n",
              "      <td>19-04-2008</td>\n",
              "      <td>CSK</td>\n",
              "      <td>KXI</td>\n",
              "      <td>CSK</td>\n",
              "      <td>bat</td>\n",
              "      <td>normal</td>\n",
              "      <td>0</td>\n",
              "      <td>CSK</td>\n",
              "      <td>33</td>\n",
              "      <td>0</td>\n",
              "      <td>Michael Hussey</td>\n",
              "      <td>18.0</td>\n",
              "      <td>I.S. Bindra Punjab Cricket Association Stadium...</td>\n",
              "      <td>9</td>\n",
              "      <td>MR Benson</td>\n",
              "      <td>SL Shastri</td>\n",
              "    </tr>\n",
              "    <tr>\n",
              "      <th>2</th>\n",
              "      <td>2008_3</td>\n",
              "      <td>2008</td>\n",
              "      <td>Delhi</td>\n",
              "      <td>19-04-2008</td>\n",
              "      <td>RR</td>\n",
              "      <td>DD</td>\n",
              "      <td>RR</td>\n",
              "      <td>bat</td>\n",
              "      <td>normal</td>\n",
              "      <td>0</td>\n",
              "      <td>DD</td>\n",
              "      <td>0</td>\n",
              "      <td>9</td>\n",
              "      <td>Farveez Maharoof</td>\n",
              "      <td>60.0</td>\n",
              "      <td>Feroz Shah Kotla Stadium, Delhi</td>\n",
              "      <td>2</td>\n",
              "      <td>Aleem Dar</td>\n",
              "      <td>GA Pratapkumar</td>\n",
              "    </tr>\n",
              "  </tbody>\n",
              "</table>\n",
              "</div>"
            ],
            "text/plain": [
              "  match_id  season        city        date team1_id team2_id toss_winner  \\\n",
              "0   2008_1    2008   Bangalore  18-04-2008      KKR      RCB         RCB   \n",
              "1   2008_2    2008  Chandigarh  19-04-2008      CSK      KXI         CSK   \n",
              "2   2008_3    2008       Delhi  19-04-2008       RR       DD          RR   \n",
              "\n",
              "  toss_decision  result  dl_applied winner  win_by_runs  win_by_wickets  \\\n",
              "0         field  normal           0    KKR          140               0   \n",
              "1           bat  normal           0    CSK           33               0   \n",
              "2           bat  normal           0     DD            0               9   \n",
              "\n",
              "    player_of_match  player_of_match_id  \\\n",
              "0  Brendon McCullum                82.0   \n",
              "1    Michael Hussey                18.0   \n",
              "2  Farveez Maharoof                60.0   \n",
              "\n",
              "                                               venue  venue_id    umpire1  \\\n",
              "0         M.Chinnaswamy Stadium Bengaluru, Karnataka         7  Asad Rauf   \n",
              "1  I.S. Bindra Punjab Cricket Association Stadium...         9  MR Benson   \n",
              "2                    Feroz Shah Kotla Stadium, Delhi         2  Aleem Dar   \n",
              "\n",
              "          umpire2  \n",
              "0     RE Koertzen  \n",
              "1      SL Shastri  \n",
              "2  GA Pratapkumar  "
            ]
          },
          "metadata": {
            "tags": []
          },
          "execution_count": 12
        }
      ]
    },
    {
      "cell_type": "markdown",
      "metadata": {
        "id": "Ur5NWEokWosE",
        "colab_type": "text"
      },
      "source": [
        "## **Frequency distribution**\n",
        "- using method value_counts for getting the distribution of values for categories"
      ]
    },
    {
      "cell_type": "code",
      "metadata": {
        "id": "OA2KsQABWosG",
        "colab_type": "code",
        "colab": {},
        "outputId": "46d1bace-f7cb-432b-ca96-1d782201e049"
      },
      "source": [
        "ipl_final['winner'].value_counts()       # table() in R - Frequency count"
      ],
      "execution_count": 0,
      "outputs": [
        {
          "output_type": "execute_result",
          "data": {
            "text/plain": [
              "MI     91\n",
              "CSK    79\n",
              "KKR    75\n",
              "RCB    73\n",
              "KXI    70\n",
              "RR     63\n",
              "DD     62\n",
              "SRH    42\n",
              "DC     29\n",
              "RPS    15\n",
              "GL     13\n",
              "PW     12\n",
              "KTK     6\n",
              "Name: winner, dtype: int64"
            ]
          },
          "metadata": {
            "tags": []
          },
          "execution_count": 13
        }
      ]
    },
    {
      "cell_type": "markdown",
      "metadata": {
        "id": "JA4MmnxHWosK",
        "colab_type": "text"
      },
      "source": [
        "## **loc (to subset data by Row/Column labels)**"
      ]
    },
    {
      "cell_type": "code",
      "metadata": {
        "id": "7n18JEzsWosL",
        "colab_type": "code",
        "colab": {},
        "outputId": "21e38fb3-729c-4288-b016-bb416562668f"
      },
      "source": [
        "## Label based indexing make more sense for column subsetting\n",
        "#Select only venue and winner columns\n",
        "subset1 = ipl_final.loc[:,['venue','winner']]\n",
        "subset1.head(3)"
      ],
      "execution_count": 0,
      "outputs": [
        {
          "output_type": "execute_result",
          "data": {
            "text/html": [
              "<div>\n",
              "<style scoped>\n",
              "    .dataframe tbody tr th:only-of-type {\n",
              "        vertical-align: middle;\n",
              "    }\n",
              "\n",
              "    .dataframe tbody tr th {\n",
              "        vertical-align: top;\n",
              "    }\n",
              "\n",
              "    .dataframe thead th {\n",
              "        text-align: right;\n",
              "    }\n",
              "</style>\n",
              "<table border=\"1\" class=\"dataframe\">\n",
              "  <thead>\n",
              "    <tr style=\"text-align: right;\">\n",
              "      <th></th>\n",
              "      <th>venue</th>\n",
              "      <th>winner</th>\n",
              "    </tr>\n",
              "    <tr>\n",
              "      <th>match_id</th>\n",
              "      <th></th>\n",
              "      <th></th>\n",
              "    </tr>\n",
              "  </thead>\n",
              "  <tbody>\n",
              "    <tr>\n",
              "      <th>2008_2</th>\n",
              "      <td>I.S. Bindra Punjab Cricket Association Stadium...</td>\n",
              "      <td>CSK</td>\n",
              "    </tr>\n",
              "    <tr>\n",
              "      <th>2008_3</th>\n",
              "      <td>Feroz Shah Kotla Stadium, Delhi</td>\n",
              "      <td>DD</td>\n",
              "    </tr>\n",
              "    <tr>\n",
              "      <th>2008_4</th>\n",
              "      <td>Wankhede Stadium, Mumbai, Maharashtra</td>\n",
              "      <td>RCB</td>\n",
              "    </tr>\n",
              "  </tbody>\n",
              "</table>\n",
              "</div>"
            ],
            "text/plain": [
              "                                                      venue winner\n",
              "match_id                                                          \n",
              "2008_2    I.S. Bindra Punjab Cricket Association Stadium...    CSK\n",
              "2008_3                      Feroz Shah Kotla Stadium, Delhi     DD\n",
              "2008_4                Wankhede Stadium, Mumbai, Maharashtra    RCB"
            ]
          },
          "metadata": {
            "tags": []
          },
          "execution_count": 14
        }
      ]
    },
    {
      "cell_type": "code",
      "metadata": {
        "id": "UyUcwslJWosP",
        "colab_type": "code",
        "colab": {},
        "outputId": "7c043b7c-40dd-4079-e6f8-3f37fa641314"
      },
      "source": [
        "## For loc based subsetting using row and column indexer together is rare.\n",
        "subset2 = ipl_final.loc[['2008_2','2009_2','2010_2',],['venue','winner']]\n",
        "subset2.head(3)"
      ],
      "execution_count": 0,
      "outputs": [
        {
          "output_type": "execute_result",
          "data": {
            "text/html": [
              "<div>\n",
              "<style scoped>\n",
              "    .dataframe tbody tr th:only-of-type {\n",
              "        vertical-align: middle;\n",
              "    }\n",
              "\n",
              "    .dataframe tbody tr th {\n",
              "        vertical-align: top;\n",
              "    }\n",
              "\n",
              "    .dataframe thead th {\n",
              "        text-align: right;\n",
              "    }\n",
              "</style>\n",
              "<table border=\"1\" class=\"dataframe\">\n",
              "  <thead>\n",
              "    <tr style=\"text-align: right;\">\n",
              "      <th></th>\n",
              "      <th>venue</th>\n",
              "      <th>winner</th>\n",
              "    </tr>\n",
              "    <tr>\n",
              "      <th>match_id</th>\n",
              "      <th></th>\n",
              "      <th></th>\n",
              "    </tr>\n",
              "  </thead>\n",
              "  <tbody>\n",
              "    <tr>\n",
              "      <th>2008_2</th>\n",
              "      <td>I.S. Bindra Punjab Cricket Association Stadium...</td>\n",
              "      <td>CSK</td>\n",
              "    </tr>\n",
              "    <tr>\n",
              "      <th>2009_2</th>\n",
              "      <td>Newlands</td>\n",
              "      <td>RCB</td>\n",
              "    </tr>\n",
              "    <tr>\n",
              "      <th>2010_2</th>\n",
              "      <td>Brabourne Stadium</td>\n",
              "      <td>MI</td>\n",
              "    </tr>\n",
              "  </tbody>\n",
              "</table>\n",
              "</div>"
            ],
            "text/plain": [
              "                                                      venue winner\n",
              "match_id                                                          \n",
              "2008_2    I.S. Bindra Punjab Cricket Association Stadium...    CSK\n",
              "2009_2                                             Newlands    RCB\n",
              "2010_2                                    Brabourne Stadium     MI"
            ]
          },
          "metadata": {
            "tags": []
          },
          "execution_count": 15
        }
      ]
    },
    {
      "cell_type": "markdown",
      "metadata": {
        "id": "P8dyvJtYWosS",
        "colab_type": "text"
      },
      "source": [
        "## **iloc    (to subset data based on Row/Column number)**"
      ]
    },
    {
      "cell_type": "code",
      "metadata": {
        "id": "kKoZHAQ9WosT",
        "colab_type": "code",
        "colab": {},
        "outputId": "8c511cf2-6b36-462d-ea19-0e8f2bde41f1"
      },
      "source": [
        "## Numeric based indexing usually makes sense for row subsetting \n",
        "ipl.iloc[50:53,1:5]"
      ],
      "execution_count": 0,
      "outputs": [
        {
          "output_type": "execute_result",
          "data": {
            "text/html": [
              "<div>\n",
              "<style scoped>\n",
              "    .dataframe tbody tr th:only-of-type {\n",
              "        vertical-align: middle;\n",
              "    }\n",
              "\n",
              "    .dataframe tbody tr th {\n",
              "        vertical-align: top;\n",
              "    }\n",
              "\n",
              "    .dataframe thead th {\n",
              "        text-align: right;\n",
              "    }\n",
              "</style>\n",
              "<table border=\"1\" class=\"dataframe\">\n",
              "  <thead>\n",
              "    <tr style=\"text-align: right;\">\n",
              "      <th></th>\n",
              "      <th>season</th>\n",
              "      <th>city</th>\n",
              "      <th>date</th>\n",
              "      <th>team1_id</th>\n",
              "    </tr>\n",
              "  </thead>\n",
              "  <tbody>\n",
              "    <tr>\n",
              "      <th>50</th>\n",
              "      <td>2008</td>\n",
              "      <td>Chennai</td>\n",
              "      <td>24-05-2008</td>\n",
              "      <td>RR</td>\n",
              "    </tr>\n",
              "    <tr>\n",
              "      <th>51</th>\n",
              "      <td>2008</td>\n",
              "      <td>Bangalore</td>\n",
              "      <td>03-05-2008</td>\n",
              "      <td>RCB</td>\n",
              "    </tr>\n",
              "    <tr>\n",
              "      <th>52</th>\n",
              "      <td>2008</td>\n",
              "      <td>Kolkata</td>\n",
              "      <td>25-05-2008</td>\n",
              "      <td>KXI</td>\n",
              "    </tr>\n",
              "  </tbody>\n",
              "</table>\n",
              "</div>"
            ],
            "text/plain": [
              "    season       city        date team1_id\n",
              "50    2008    Chennai  24-05-2008       RR\n",
              "51    2008  Bangalore  03-05-2008      RCB\n",
              "52    2008    Kolkata  25-05-2008      KXI"
            ]
          },
          "metadata": {
            "tags": []
          },
          "execution_count": 16
        }
      ]
    },
    {
      "cell_type": "markdown",
      "metadata": {
        "id": "Xi7RGUOoWosY",
        "colab_type": "text"
      },
      "source": [
        "## **Boolean indexing (to subset based on value in each cell of the column )**\n",
        "**Here we subsetting the data where the cell value in \"City\" column is equal to \"Hyderabad\"**"
      ]
    },
    {
      "cell_type": "code",
      "metadata": {
        "id": "Nv7r2sXDWosY",
        "colab_type": "code",
        "colab": {},
        "outputId": "97dfea60-df55-4c9f-b756-1892dcdf44aa"
      },
      "source": [
        "subset3 = ipl.loc[ipl['city']=='Hyderabad',:]\n",
        "subset3.head(3)"
      ],
      "execution_count": 0,
      "outputs": [
        {
          "output_type": "execute_result",
          "data": {
            "text/html": [
              "<div>\n",
              "<style scoped>\n",
              "    .dataframe tbody tr th:only-of-type {\n",
              "        vertical-align: middle;\n",
              "    }\n",
              "\n",
              "    .dataframe tbody tr th {\n",
              "        vertical-align: top;\n",
              "    }\n",
              "\n",
              "    .dataframe thead th {\n",
              "        text-align: right;\n",
              "    }\n",
              "</style>\n",
              "<table border=\"1\" class=\"dataframe\">\n",
              "  <thead>\n",
              "    <tr style=\"text-align: right;\">\n",
              "      <th></th>\n",
              "      <th>match_id</th>\n",
              "      <th>season</th>\n",
              "      <th>city</th>\n",
              "      <th>date</th>\n",
              "      <th>team1_id</th>\n",
              "      <th>team2_id</th>\n",
              "      <th>toss_winner</th>\n",
              "      <th>toss_decision</th>\n",
              "      <th>result</th>\n",
              "      <th>dl_applied</th>\n",
              "      <th>winner</th>\n",
              "      <th>win_by_runs</th>\n",
              "      <th>win_by_wickets</th>\n",
              "      <th>player_of_match</th>\n",
              "      <th>player_of_match_id</th>\n",
              "      <th>venue</th>\n",
              "      <th>venue_id</th>\n",
              "      <th>umpire1</th>\n",
              "      <th>umpire2</th>\n",
              "    </tr>\n",
              "  </thead>\n",
              "  <tbody>\n",
              "    <tr>\n",
              "      <th>6</th>\n",
              "      <td>2008_7</td>\n",
              "      <td>2008</td>\n",
              "      <td>Hyderabad</td>\n",
              "      <td>22-04-2008</td>\n",
              "      <td>DC</td>\n",
              "      <td>DD</td>\n",
              "      <td>DC</td>\n",
              "      <td>bat</td>\n",
              "      <td>normal</td>\n",
              "      <td>0</td>\n",
              "      <td>DD</td>\n",
              "      <td>0</td>\n",
              "      <td>9</td>\n",
              "      <td>Virender Sehwag</td>\n",
              "      <td>46.0</td>\n",
              "      <td>Rajiv Gandhi International Stadium, Hyderabad</td>\n",
              "      <td>4</td>\n",
              "      <td>IL Howell</td>\n",
              "      <td>AM Saheba</td>\n",
              "    </tr>\n",
              "    <tr>\n",
              "      <th>8</th>\n",
              "      <td>2008_9</td>\n",
              "      <td>2008</td>\n",
              "      <td>Hyderabad</td>\n",
              "      <td>24-04-2008</td>\n",
              "      <td>DC</td>\n",
              "      <td>RR</td>\n",
              "      <td>RR</td>\n",
              "      <td>field</td>\n",
              "      <td>normal</td>\n",
              "      <td>0</td>\n",
              "      <td>RR</td>\n",
              "      <td>0</td>\n",
              "      <td>3</td>\n",
              "      <td>Yusuf Pathan</td>\n",
              "      <td>171.0</td>\n",
              "      <td>Rajiv Gandhi International Stadium, Hyderabad</td>\n",
              "      <td>4</td>\n",
              "      <td>Asad Rauf</td>\n",
              "      <td>MR Benson</td>\n",
              "    </tr>\n",
              "    <tr>\n",
              "      <th>17</th>\n",
              "      <td>2008_18</td>\n",
              "      <td>2008</td>\n",
              "      <td>Hyderabad</td>\n",
              "      <td>01-05-2008</td>\n",
              "      <td>DC</td>\n",
              "      <td>KXI</td>\n",
              "      <td>KXI</td>\n",
              "      <td>field</td>\n",
              "      <td>normal</td>\n",
              "      <td>0</td>\n",
              "      <td>KXI</td>\n",
              "      <td>0</td>\n",
              "      <td>7</td>\n",
              "      <td>Shaun Marsh</td>\n",
              "      <td>106.0</td>\n",
              "      <td>Rajiv Gandhi International Stadium, Hyderabad</td>\n",
              "      <td>4</td>\n",
              "      <td>BR Doctrove</td>\n",
              "      <td>RB Tiffin</td>\n",
              "    </tr>\n",
              "  </tbody>\n",
              "</table>\n",
              "</div>"
            ],
            "text/plain": [
              "   match_id  season       city        date team1_id team2_id toss_winner  \\\n",
              "6    2008_7    2008  Hyderabad  22-04-2008       DC       DD          DC   \n",
              "8    2008_9    2008  Hyderabad  24-04-2008       DC       RR          RR   \n",
              "17  2008_18    2008  Hyderabad  01-05-2008       DC      KXI         KXI   \n",
              "\n",
              "   toss_decision  result  dl_applied winner  win_by_runs  win_by_wickets  \\\n",
              "6            bat  normal           0     DD            0               9   \n",
              "8          field  normal           0     RR            0               3   \n",
              "17         field  normal           0    KXI            0               7   \n",
              "\n",
              "    player_of_match  player_of_match_id  \\\n",
              "6   Virender Sehwag                46.0   \n",
              "8      Yusuf Pathan               171.0   \n",
              "17      Shaun Marsh               106.0   \n",
              "\n",
              "                                            venue  venue_id      umpire1  \\\n",
              "6   Rajiv Gandhi International Stadium, Hyderabad         4    IL Howell   \n",
              "8   Rajiv Gandhi International Stadium, Hyderabad         4    Asad Rauf   \n",
              "17  Rajiv Gandhi International Stadium, Hyderabad         4  BR Doctrove   \n",
              "\n",
              "      umpire2  \n",
              "6   AM Saheba  \n",
              "8   MR Benson  \n",
              "17  RB Tiffin  "
            ]
          },
          "metadata": {
            "tags": []
          },
          "execution_count": 17
        }
      ]
    },
    {
      "cell_type": "markdown",
      "metadata": {
        "id": "KlHEeVsqWosc",
        "colab_type": "text"
      },
      "source": [
        "## **Piping of functions (for multiple criteria subsetting)**"
      ]
    },
    {
      "cell_type": "markdown",
      "metadata": {
        "id": "-xlH5siBWosd",
        "colab_type": "text"
      },
      "source": [
        "**Basically output of first function is taken as input for the next function**\n",
        "#### **Note - We are using a relational operator inside the first function to get a boolean vector (equal to the number of rows we have). Where the value will be True only if the \"city\" column is \"Hyderabad\"**"
      ]
    },
    {
      "cell_type": "code",
      "metadata": {
        "id": "TsLf-dxwWosf",
        "colab_type": "code",
        "colab": {},
        "outputId": "cbff01d3-7bbf-44ae-ed65-39672188d557"
      },
      "source": [
        "subset4 = ipl.loc[ipl['city']=='Chennai',:].loc[ipl['winner']=='CSK',:].loc[:,['team1_id','team2_id','winner','city']]\n",
        "\n",
        "## This line achieves the same purpose as above\n",
        "# subset4 = ipl.loc[(ipl['city']=='Chennai') & (ipl['winner']=='CSK'),:].loc[:,['team1_id','team2_id','winner','city']]\n",
        "\n",
        "subset4.head(3)"
      ],
      "execution_count": 0,
      "outputs": [
        {
          "output_type": "execute_result",
          "data": {
            "text/html": [
              "<div>\n",
              "<style scoped>\n",
              "    .dataframe tbody tr th:only-of-type {\n",
              "        vertical-align: middle;\n",
              "    }\n",
              "\n",
              "    .dataframe tbody tr th {\n",
              "        vertical-align: top;\n",
              "    }\n",
              "\n",
              "    .dataframe thead th {\n",
              "        text-align: right;\n",
              "    }\n",
              "</style>\n",
              "<table border=\"1\" class=\"dataframe\">\n",
              "  <thead>\n",
              "    <tr style=\"text-align: right;\">\n",
              "      <th></th>\n",
              "      <th>team1_id</th>\n",
              "      <th>team2_id</th>\n",
              "      <th>winner</th>\n",
              "      <th>city</th>\n",
              "    </tr>\n",
              "  </thead>\n",
              "  <tbody>\n",
              "    <tr>\n",
              "      <th>7</th>\n",
              "      <td>CSK</td>\n",
              "      <td>MI</td>\n",
              "      <td>CSK</td>\n",
              "      <td>Chennai</td>\n",
              "    </tr>\n",
              "    <tr>\n",
              "      <th>11</th>\n",
              "      <td>KKR</td>\n",
              "      <td>CSK</td>\n",
              "      <td>CSK</td>\n",
              "      <td>Chennai</td>\n",
              "    </tr>\n",
              "    <tr>\n",
              "      <th>31</th>\n",
              "      <td>CSK</td>\n",
              "      <td>KXI</td>\n",
              "      <td>CSK</td>\n",
              "      <td>Chennai</td>\n",
              "    </tr>\n",
              "  </tbody>\n",
              "</table>\n",
              "</div>"
            ],
            "text/plain": [
              "   team1_id team2_id winner     city\n",
              "7       CSK       MI    CSK  Chennai\n",
              "11      KKR      CSK    CSK  Chennai\n",
              "31      CSK      KXI    CSK  Chennai"
            ]
          },
          "metadata": {
            "tags": []
          },
          "execution_count": 18
        }
      ]
    },
    {
      "cell_type": "markdown",
      "metadata": {
        "id": "O9r3HqSgWosi",
        "colab_type": "text"
      },
      "source": [
        "### **Note**\n",
        "1. In the first command we have used 3 subsetting logics in a single line\n",
        "2. This can be alternatively done by chaining conditions using logical operations (&)\n",
        "3. **You may realize that sometimes giving single indexer (either row or column) works. However it may not be a consistent behaviour and its a good programming practive to specify both the indexers explicitly (row and column) as it makes the code more readable later on.**"
      ]
    },
    {
      "cell_type": "markdown",
      "metadata": {
        "id": "3jFeFHzgWosi",
        "colab_type": "text"
      },
      "source": [
        "## **Replace specific values**"
      ]
    },
    {
      "cell_type": "code",
      "metadata": {
        "id": "0PQUltQPWosk",
        "colab_type": "code",
        "colab": {},
        "outputId": "5ae0daa9-7199-40b0-a46d-fce0688ba3c3"
      },
      "source": [
        "ipl['winner'].value_counts()"
      ],
      "execution_count": 0,
      "outputs": [
        {
          "output_type": "execute_result",
          "data": {
            "text/plain": [
              "MI     80\n",
              "CSK    79\n",
              "RCB    70\n",
              "KKR    68\n",
              "RR     63\n",
              "KXI    63\n",
              "DD     56\n",
              "SRH    34\n",
              "DC     29\n",
              "PW     12\n",
              "GL      9\n",
              "KTK     6\n",
              "RPS     5\n",
              "Name: winner, dtype: int64"
            ]
          },
          "metadata": {
            "tags": []
          },
          "execution_count": 19
        }
      ]
    },
    {
      "cell_type": "code",
      "metadata": {
        "id": "eQXE4tl5Wosm",
        "colab_type": "code",
        "colab": {},
        "outputId": "0a334b20-aa3a-48af-c6f3-384c3f6d741a"
      },
      "source": [
        "# Lets replace DC with SRH\n",
        "ipl_updated=ipl_final.replace({'DC':'SRH'}, inplace=False)\n",
        "\n",
        "ipl_updated['winner'].value_counts()"
      ],
      "execution_count": 0,
      "outputs": [
        {
          "output_type": "execute_result",
          "data": {
            "text/plain": [
              "MI     91\n",
              "CSK    79\n",
              "KKR    75\n",
              "RCB    73\n",
              "SRH    71\n",
              "KXI    70\n",
              "RR     63\n",
              "DD     62\n",
              "RPS    15\n",
              "GL     13\n",
              "PW     12\n",
              "KTK     6\n",
              "Name: winner, dtype: int64"
            ]
          },
          "metadata": {
            "tags": []
          },
          "execution_count": 20
        }
      ]
    },
    {
      "cell_type": "markdown",
      "metadata": {
        "collapsed": true,
        "id": "bHwuDVTJWosq",
        "colab_type": "text"
      },
      "source": [
        "## **Activity**\n",
        "**What matches are played on 2008-04-20 and who is the winner?**"
      ]
    },
    {
      "cell_type": "code",
      "metadata": {
        "id": "cdk6PQDoWosr",
        "colab_type": "code",
        "colab": {},
        "outputId": "8a8620cc-6c06-4aa2-c733-1ec330d326e5"
      },
      "source": [
        "ipl.loc[ipl['date']=='20-04-2008',:].loc[:,['winner']]"
      ],
      "execution_count": 0,
      "outputs": [
        {
          "output_type": "execute_result",
          "data": {
            "text/html": [
              "<div>\n",
              "<style scoped>\n",
              "    .dataframe tbody tr th:only-of-type {\n",
              "        vertical-align: middle;\n",
              "    }\n",
              "\n",
              "    .dataframe tbody tr th {\n",
              "        vertical-align: top;\n",
              "    }\n",
              "\n",
              "    .dataframe thead th {\n",
              "        text-align: right;\n",
              "    }\n",
              "</style>\n",
              "<table border=\"1\" class=\"dataframe\">\n",
              "  <thead>\n",
              "    <tr style=\"text-align: right;\">\n",
              "      <th></th>\n",
              "      <th>winner</th>\n",
              "    </tr>\n",
              "  </thead>\n",
              "  <tbody>\n",
              "    <tr>\n",
              "      <th>3</th>\n",
              "      <td>RCB</td>\n",
              "    </tr>\n",
              "    <tr>\n",
              "      <th>4</th>\n",
              "      <td>KKR</td>\n",
              "    </tr>\n",
              "  </tbody>\n",
              "</table>\n",
              "</div>"
            ],
            "text/plain": [
              "  winner\n",
              "3    RCB\n",
              "4    KKR"
            ]
          },
          "metadata": {
            "tags": []
          },
          "execution_count": 21
        }
      ]
    },
    {
      "cell_type": "markdown",
      "metadata": {
        "id": "8gxSg-KxWosu",
        "colab_type": "text"
      },
      "source": [
        "---\n",
        "## *<center>End</center>*"
      ]
    }
  ]
}