{
  "nbformat": 4,
  "nbformat_minor": 0,
  "metadata": {
    "colab": {
      "name": "Numpy_exercise1.ipynb",
      "provenance": [],
      "collapsed_sections": [],
      "include_colab_link": true
    },
    "kernelspec": {
      "name": "python3",
      "display_name": "Python 3"
    }
  },
  "cells": [
    {
      "cell_type": "markdown",
      "metadata": {
        "id": "view-in-github",
        "colab_type": "text"
      },
      "source": [
        "<a href=\"https://colab.research.google.com/github/19pa1a0428/PYTHON/blob/master/Numpy_exercise1.ipynb\" target=\"_parent\"><img src=\"https://colab.research.google.com/assets/colab-badge.svg\" alt=\"Open In Colab\"/></a>"
      ]
    },
    {
      "cell_type": "markdown",
      "metadata": {
        "id": "W_-FIH4tVZOc",
        "colab_type": "text"
      },
      "source": [
        "# <center>**Numpy Introduction**</center>\n",
        "![alt text](https://miro.medium.com/max/765/1*cyXCE-JcBelTyrK-58w6_Q.png)"
      ]
    },
    {
      "cell_type": "markdown",
      "metadata": {
        "id": "Vgd2-oH4WMjw",
        "colab_type": "text"
      },
      "source": [
        "Numpy is a general-purpose array-processing package...\n",
        "It provides \n",
        "* High performance multi-dimensional arry object....\n",
        "*   Tools to work with these array objects.....\n",
        "* Numpy operations are vectorized..\n",
        "\n"
      ]
    },
    {
      "cell_type": "markdown",
      "metadata": {
        "id": "Khxshy-VXB8s",
        "colab_type": "text"
      },
      "source": [
        "It is mainly used in scientific computing....\n",
        "-----\n",
        "Importing numpy package...."
      ]
    },
    {
      "cell_type": "code",
      "metadata": {
        "id": "-Q5tqgECVjxd",
        "colab_type": "code",
        "colab": {}
      },
      "source": [
        ""
      ],
      "execution_count": 0,
      "outputs": []
    },
    {
      "cell_type": "markdown",
      "metadata": {
        "id": "8KWDUNr0bKiy",
        "colab_type": "text"
      },
      "source": [
        "# **Creating 1-D array**\n",
        "* We can create array using lists,tuples as follows"
      ]
    },
    {
      "cell_type": "code",
      "metadata": {
        "id": "ORYz485HdF1G",
        "colab_type": "code",
        "colab": {}
      },
      "source": [
        "# create a numpy array using list\n"
      ],
      "execution_count": 0,
      "outputs": []
    },
    {
      "cell_type": "code",
      "metadata": {
        "id": "vmkUQ3w7dYl-",
        "colab_type": "code",
        "colab": {}
      },
      "source": [
        "# create a numpy array from python tuple"
      ],
      "execution_count": 0,
      "outputs": []
    },
    {
      "cell_type": "markdown",
      "metadata": {
        "id": "bKKQIfXpbqNQ",
        "colab_type": "text"
      },
      "source": [
        "* Python lists are similar to Numpy Lists...\n",
        "* Then What is the purpose of having numpy arrays....\n",
        "![alt text](https://encrypted-tbn0.gstatic.com/images?q=tbn%3AANd9GcRADkTaMgXw0kSz05Rh7hAaoyGcik9UvBwqYAAVIB9uGJlFlXkJ)"
      ]
    },
    {
      "cell_type": "markdown",
      "metadata": {
        "id": "ynwVok0Hc1Lp",
        "colab_type": "text"
      },
      "source": [
        "* Because numpy arrays are faster and takes less memory..."
      ]
    },
    {
      "cell_type": "code",
      "metadata": {
        "id": "vxoq1AUDYYjO",
        "colab_type": "code",
        "outputId": "100bf792-6b04-499a-a7c4-b8c4e34ae1d8",
        "colab": {
          "base_uri": "https://localhost:8080/",
          "height": 50
        }
      },
      "source": [
        "# let's see a program to know the storage of numpy arrays...\n",
        "import sys\n",
        "l1=list(range(1000))\n",
        "a3=np.array(l1)\n",
        "print(\"Amount of memory consumed by python list..\",len(l1)*sys.getsizeof(l1[0]))\n",
        "print(\"Amount of memory consumed by numpy array...\",a3.size*a3.itemsize)"
      ],
      "execution_count": 0,
      "outputs": [
        {
          "output_type": "stream",
          "text": [
            "Amount of memory consumed by python list.. 24000\n",
            "Amount of memory consumed by numpy array... 8000\n"
          ],
          "name": "stdout"
        }
      ]
    },
    {
      "cell_type": "code",
      "metadata": {
        "id": "HuVoPbR0eQ20",
        "colab_type": "code",
        "outputId": "2edcfdbc-d024-46d0-889d-69299f7f23e0",
        "colab": {
          "base_uri": "https://localhost:8080/",
          "height": 50
        }
      },
      "source": [
        "# let's see another program to know about time consumed by numpy arrays....\n",
        "import time\n",
        "t1=time.time()\n",
        "for j in range(len(l1)):\n",
        "  l1[j]+=5\n",
        "t2=time.time()\n",
        "a3=a3+5\n",
        "t3=time.time()\n",
        "print(\"Time taken by the list l1 to add 5 to each element of list is...\",(t2-t1)*100000)\n",
        "print(\"Time taken by the numpy array to add 5 to each element of numpy array is...\",(t3-t2)*100000)"
      ],
      "execution_count": 0,
      "outputs": [
        {
          "output_type": "stream",
          "text": [
            "Time taken by the list l1 to add 5 to each element of list is... 17.04692840576172\n",
            "Time taken by the numpy array to add 5 to each element of numpy array is... 9.012222290039062\n"
          ],
          "name": "stdout"
        }
      ]
    },
    {
      "cell_type": "markdown",
      "metadata": {
        "id": "QzMstAkCf30D",
        "colab_type": "text"
      },
      "source": [
        "* This is why we use numpy for scientific computing..."
      ]
    },
    {
      "cell_type": "markdown",
      "metadata": {
        "id": "-uW2JnJeiH96",
        "colab_type": "text"
      },
      "source": [
        "#### We can also create 2-D arrays.... "
      ]
    },
    {
      "cell_type": "markdown",
      "metadata": {
        "id": "aW4wBU5yjTm3",
        "colab_type": "text"
      },
      "source": [
        "* We can also create n-d arrays using python lists and tuples..."
      ]
    },
    {
      "cell_type": "code",
      "metadata": {
        "id": "RoXNNPziiV33",
        "colab_type": "code",
        "colab": {}
      },
      "source": [
        "# create a 2-d array using list\n"
      ],
      "execution_count": 0,
      "outputs": []
    },
    {
      "cell_type": "code",
      "metadata": {
        "id": "uLvpvhtXy14u",
        "colab_type": "code",
        "colab": {}
      },
      "source": [
        "# we can also create n-d arrays with zeros using zeros method\n"
      ],
      "execution_count": 0,
      "outputs": []
    },
    {
      "cell_type": "code",
      "metadata": {
        "id": "3ECjMoL-z_85",
        "colab_type": "code",
        "colab": {}
      },
      "source": [
        "# we can also create n-d arrays with ones using ones method\n"
      ],
      "execution_count": 0,
      "outputs": []
    },
    {
      "cell_type": "code",
      "metadata": {
        "id": "DYqvn9FSin3p",
        "colab_type": "code",
        "colab": {}
      },
      "source": [
        "# create a 2-d array using tuples"
      ],
      "execution_count": 0,
      "outputs": []
    },
    {
      "cell_type": "markdown",
      "metadata": {
        "id": "T7RDK2T4jhvu",
        "colab_type": "text"
      },
      "source": [
        "### Let's explore more about numpy arrays..."
      ]
    },
    {
      "cell_type": "code",
      "metadata": {
        "id": "MCA1AqtSfXWN",
        "colab_type": "code",
        "colab": {}
      },
      "source": [
        "# let's see the datatype of numpy arrays....\n"
      ],
      "execution_count": 0,
      "outputs": []
    },
    {
      "cell_type": "code",
      "metadata": {
        "id": "wxe71tltgPjB",
        "colab_type": "code",
        "colab": {}
      },
      "source": [
        "# shape or dimensions of numpy array\n"
      ],
      "execution_count": 0,
      "outputs": []
    },
    {
      "cell_type": "code",
      "metadata": {
        "id": "ipyKH1q0iCwi",
        "colab_type": "code",
        "colab": {}
      },
      "source": [
        "# size of numpu array\n"
      ],
      "execution_count": 0,
      "outputs": []
    },
    {
      "cell_type": "code",
      "metadata": {
        "id": "kOTKD8anj2Jz",
        "colab_type": "code",
        "colab": {}
      },
      "source": [
        "# maximum element...\n"
      ],
      "execution_count": 0,
      "outputs": []
    },
    {
      "cell_type": "markdown",
      "metadata": {
        "id": "AamJFZhLU67j",
        "colab_type": "text"
      },
      "source": [
        "### Generating numbers between a range with a specific difference\n",
        "- using function arange"
      ]
    },
    {
      "cell_type": "code",
      "metadata": {
        "id": "maq66hFskS04",
        "colab_type": "code",
        "colab": {}
      },
      "source": [
        "# create an array of numbers using arange method\n"
      ],
      "execution_count": 0,
      "outputs": []
    },
    {
      "cell_type": "markdown",
      "metadata": {
        "id": "1WEBsS09U67r",
        "colab_type": "text"
      },
      "source": [
        "### Generating **n** numbers between a range\n",
        "- using function linspace"
      ]
    },
    {
      "cell_type": "code",
      "metadata": {
        "id": "DuwEoYxVlbo9",
        "colab_type": "code",
        "colab": {}
      },
      "source": [
        "# use linspace method to create numpy array"
      ],
      "execution_count": 0,
      "outputs": []
    },
    {
      "cell_type": "markdown",
      "metadata": {
        "id": "IqWD7m5vU67v",
        "colab_type": "text"
      },
      "source": [
        "### Generating random sample of given dimensions\n",
        "**Note - Random numbers are generated between 0 to 1. Multiply them with an appropriate factor to get required outcome.**"
      ]
    },
    {
      "cell_type": "code",
      "metadata": {
        "id": "wH1Ka76omFvW",
        "colab_type": "code",
        "colab": {}
      },
      "source": [
        "# creating numpy arrays of required dimensions with random numbers..\n"
      ],
      "execution_count": 0,
      "outputs": []
    },
    {
      "cell_type": "code",
      "metadata": {
        "id": "K_ASnsMonkJn",
        "colab_type": "code",
        "colab": {}
      },
      "source": [
        "# What if we wnnt to create an array with random numbers between 1 to 100\n"
      ],
      "execution_count": 0,
      "outputs": []
    },
    {
      "cell_type": "markdown",
      "metadata": {
        "id": "vNmovw_wU671",
        "colab_type": "text"
      },
      "source": [
        "### Basic array operations\n",
        "**Note - The operations are vectorised**\n"
      ]
    },
    {
      "cell_type": "code",
      "metadata": {
        "id": "ua3b456JoPUm",
        "colab_type": "code",
        "colab": {}
      },
      "source": [
        "# let's create two numpy arrays \n"
      ],
      "execution_count": 0,
      "outputs": []
    },
    {
      "cell_type": "code",
      "metadata": {
        "id": "hsG1jcCbq9dR",
        "colab_type": "code",
        "colab": {}
      },
      "source": [
        "# we can do all arithmetic operations on numpy arrays with ease +,-,/,*,%\n"
      ],
      "execution_count": 0,
      "outputs": []
    },
    {
      "cell_type": "code",
      "metadata": {
        "id": "aqeNS24ard_K",
        "colab_type": "code",
        "colab": {}
      },
      "source": [
        "# Broadcasting or recycling...\n"
      ],
      "execution_count": 0,
      "outputs": []
    },
    {
      "cell_type": "code",
      "metadata": {
        "id": "zZg2qIjRsfD0",
        "colab_type": "code",
        "colab": {}
      },
      "source": [
        "# Boolean operations..\n"
      ],
      "execution_count": 0,
      "outputs": []
    },
    {
      "cell_type": "markdown",
      "metadata": {
        "id": "a4L-7D3zsTqT",
        "colab_type": "text"
      },
      "source": [
        "#### Matrix multiplication"
      ]
    },
    {
      "cell_type": "code",
      "metadata": {
        "id": "phj42YOyr4fZ",
        "colab_type": "code",
        "colab": {}
      },
      "source": [
        "# use matmul function\n"
      ],
      "execution_count": 0,
      "outputs": []
    },
    {
      "cell_type": "markdown",
      "metadata": {
        "id": "S5JNiyviDIy6",
        "colab_type": "text"
      },
      "source": [
        "### Some array operations\n",
        "- max, min, sum, cumsum, sqrt, log etc"
      ]
    },
    {
      "cell_type": "code",
      "metadata": {
        "id": "3Mlfe-G6tty5",
        "colab_type": "code",
        "colab": {}
      },
      "source": [
        ""
      ],
      "execution_count": 0,
      "outputs": []
    },
    {
      "cell_type": "markdown",
      "metadata": {
        "id": "Y_Gh5_8Cu9TB",
        "colab_type": "text"
      },
      "source": [
        "### Subsetting slicing and indexing\n",
        "* We can access the elements of numpy n-d arrays using indexing..\n",
        "* We can use numbers,array of numbers, boolean arrays as indices"
      ]
    },
    {
      "cell_type": "code",
      "metadata": {
        "id": "p8nVHJm_uhLa",
        "colab_type": "code",
        "colab": {}
      },
      "source": [
        "#let's create a 2-d array..\n"
      ],
      "execution_count": 0,
      "outputs": []
    },
    {
      "cell_type": "code",
      "metadata": {
        "id": "0vc04F_pv-JM",
        "colab_type": "code",
        "colab": {}
      },
      "source": [
        ""
      ],
      "execution_count": 0,
      "outputs": []
    },
    {
      "cell_type": "code",
      "metadata": {
        "id": "OCYQos6NwNvG",
        "colab_type": "code",
        "colab": {}
      },
      "source": [
        ""
      ],
      "execution_count": 0,
      "outputs": []
    },
    {
      "cell_type": "code",
      "metadata": {
        "id": "o2MOUJ7XwR-9",
        "colab_type": "code",
        "colab": {}
      },
      "source": [
        ""
      ],
      "execution_count": 0,
      "outputs": []
    },
    {
      "cell_type": "code",
      "metadata": {
        "id": "POdyvKJYwzUg",
        "colab_type": "code",
        "colab": {}
      },
      "source": [
        "# let's see boolean array indexing\n"
      ],
      "execution_count": 0,
      "outputs": []
    },
    {
      "cell_type": "code",
      "metadata": {
        "id": "ebwGsyQrxDUB",
        "colab_type": "code",
        "colab": {}
      },
      "source": [
        "# let's see the magic of boolean indexing...\n"
      ],
      "execution_count": 0,
      "outputs": []
    },
    {
      "cell_type": "code",
      "metadata": {
        "id": "88VvhebxxWxi",
        "colab_type": "code",
        "colab": {}
      },
      "source": [
        ""
      ],
      "execution_count": 0,
      "outputs": []
    },
    {
      "cell_type": "code",
      "metadata": {
        "id": "IRT6AchsxaAd",
        "colab_type": "code",
        "colab": {}
      },
      "source": [
        "# slicing\n"
      ],
      "execution_count": 0,
      "outputs": []
    },
    {
      "cell_type": "code",
      "metadata": {
        "id": "7UmK-EOBxy2l",
        "colab_type": "code",
        "colab": {}
      },
      "source": [
        ""
      ],
      "execution_count": 0,
      "outputs": []
    },
    {
      "cell_type": "markdown",
      "metadata": {
        "id": "7GQ4AY9Vx_Br",
        "colab_type": "text"
      },
      "source": [
        "**Remember slices of numpy array shares memory..**"
      ]
    },
    {
      "cell_type": "code",
      "metadata": {
        "id": "GBbRtiEsx3I_",
        "colab_type": "code",
        "colab": {}
      },
      "source": [
        ""
      ],
      "execution_count": 0,
      "outputs": []
    },
    {
      "cell_type": "code",
      "metadata": {
        "id": "x6cL7nbUyaTo",
        "colab_type": "code",
        "colab": {}
      },
      "source": [
        ""
      ],
      "execution_count": 0,
      "outputs": []
    },
    {
      "cell_type": "code",
      "metadata": {
        "id": "vswvFo7dyoO7",
        "colab_type": "code",
        "colab": {}
      },
      "source": [
        ""
      ],
      "execution_count": 0,
      "outputs": []
    },
    {
      "cell_type": "code",
      "metadata": {
        "id": "K8WjSQhU64tw",
        "colab_type": "code",
        "colab": {}
      },
      "source": [
        ""
      ],
      "execution_count": 0,
      "outputs": []
    },
    {
      "cell_type": "code",
      "metadata": {
        "id": "K0SeN4jO64q7",
        "colab_type": "code",
        "colab": {}
      },
      "source": [
        ""
      ],
      "execution_count": 0,
      "outputs": []
    },
    {
      "cell_type": "code",
      "metadata": {
        "id": "0PNy_9eX64nc",
        "colab_type": "code",
        "colab": {}
      },
      "source": [
        ""
      ],
      "execution_count": 0,
      "outputs": []
    },
    {
      "cell_type": "code",
      "metadata": {
        "id": "i4BJ_Sc164kw",
        "colab_type": "code",
        "colab": {}
      },
      "source": [
        ""
      ],
      "execution_count": 0,
      "outputs": []
    },
    {
      "cell_type": "markdown",
      "metadata": {
        "id": "MbCF_-g866q7",
        "colab_type": "text"
      },
      "source": [
        "<centre> ![alt text](https://encrypted-tbn0.gstatic.com/images?q=tbn%3AANd9GcTPd1SAx9N15GzpLNBp5gN_aAucYdFvj3ic9BpZVR48QW6qVOTu)\n",
        "## ***yeah!***"
      ]
    },
    {
      "cell_type": "code",
      "metadata": {
        "id": "ErdlQb_77V2d",
        "colab_type": "code",
        "colab": {}
      },
      "source": [
        ""
      ],
      "execution_count": 0,
      "outputs": []
    }
  ]
}